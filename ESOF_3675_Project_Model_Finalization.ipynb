{
  "cells": [
    {
      "cell_type": "markdown",
      "metadata": {
        "id": "view-in-github",
        "colab_type": "text"
      },
      "source": [
        "<a href=\"https://colab.research.google.com/github/mjgrandell/Permanent-Magnet-Synchronous-Motors-Temperature-Prediction/blob/main/ESOF_3675_Project_Model_Finalization.ipynb\" target=\"_parent\"><img src=\"https://colab.research.google.com/assets/colab-badge.svg\" alt=\"Open In Colab\"/></a>"
      ]
    },
    {
      "cell_type": "markdown",
      "metadata": {
        "id": "ZcTRxZgC55xZ"
      },
      "source": [
        "# Introduction"
      ]
    },
    {
      "cell_type": "markdown",
      "metadata": {
        "id": "LxR1y_ITxE4y"
      },
      "source": [
        "Model Finalization\n",
        "\n",
        "Mark Grandell - 1101454\n",
        "\n",
        "Jack Fiorot - 1104472"
      ]
    },
    {
      "cell_type": "markdown",
      "metadata": {
        "id": "s4alipz059xs"
      },
      "source": [
        "# Data Preprocessing"
      ]
    },
    {
      "cell_type": "code",
      "execution_count": null,
      "metadata": {
        "id": "NpljiGxkw5h3",
        "colab": {
          "base_uri": "https://localhost:8080/"
        },
        "outputId": "c70a2daf-07be-41aa-a57f-dd42dea43b0c"
      },
      "outputs": [
        {
          "output_type": "stream",
          "name": "stdout",
          "text": [
            "Drive already mounted at /content/drive; to attempt to forcibly remount, call drive.mount(\"/content/drive\", force_remount=True).\n"
          ]
        }
      ],
      "source": [
        "#connect to drive\n",
        "from google.colab import drive\n",
        "drive.mount('/content/drive')\n"
      ]
    },
    {
      "cell_type": "code",
      "execution_count": null,
      "metadata": {
        "id": "rREbE893xYzq"
      },
      "outputs": [],
      "source": [
        "#all imports\n",
        "import seaborn as sb\n",
        "import pandas as pd\n",
        "import matplotlib.pyplot as plt\n",
        "import numpy as np\n",
        "import sklearn\n",
        "from sklearn.linear_model import LinearRegression\n",
        "from sklearn.preprocessing import MinMaxScaler\n",
        "from sklearn.model_selection import train_test_split\n",
        "from sklearn.metrics import mean_squared_error, r2_score\n",
        "from sklearn.metrics.pairwise import chi2_kernel\n",
        "from sklearn.preprocessing import StandardScaler\n",
        "from sklearn.neighbors import KNeighborsRegressor\n",
        "from sklearn import tree\n",
        "from sklearn.linear_model import Lasso\n",
        "from sklearn.metrics import accuracy_score, mean_absolute_error"
      ]
    },
    {
      "cell_type": "code",
      "execution_count": null,
      "metadata": {
        "id": "5e0Sti1xxcNV",
        "colab": {
          "base_uri": "https://localhost:8080/",
          "height": 363
        },
        "outputId": "3ce1cc5a-0422-4c82-fc6e-82ea84837bd4"
      },
      "outputs": [
        {
          "output_type": "execute_result",
          "data": {
            "text/plain": [
              "        u_q    coolant  stator_winding       u_d  stator_tooth  motor_speed  \\\n",
              "0 -0.450682  18.805172       19.086670 -0.350055     18.293219     0.002866   \n",
              "1 -0.325737  18.818571       19.092390 -0.305803     18.294807     0.000257   \n",
              "2 -0.440864  18.828770       19.089380 -0.372503     18.294094     0.002355   \n",
              "3 -0.327026  18.835567       19.083031 -0.316199     18.292542     0.006105   \n",
              "4 -0.471150  18.857033       19.082525 -0.332272     18.291428     0.003133   \n",
              "5 -0.538973  18.901548       19.077108  0.009147     18.290628     0.009636   \n",
              "6 -0.653148  18.941711       19.074583  0.238890     18.292524     0.001337   \n",
              "7 -0.758392  18.960861       19.082499  0.395099     18.294041     0.001422   \n",
              "8 -0.727128  18.973545       19.085533  0.546623     18.291964     0.000577   \n",
              "9 -0.874307  18.987812       19.076025  0.578944     18.287233    -0.001248   \n",
              "\n",
              "        i_d       i_q         pm  stator_yoke    ambient    torque  profile_id  \n",
              "0  0.004419  0.000328  24.554214    18.316547  19.850691  0.187101          17  \n",
              "1  0.000606 -0.000785  24.538078    18.314955  19.850672  0.245417          17  \n",
              "2  0.001290  0.000386  24.544693    18.326307  19.850657  0.176615          17  \n",
              "3  0.000026  0.002046  24.554018    18.330833  19.850647  0.238303          17  \n",
              "4 -0.064317  0.037184  24.565397    18.326662  19.850639  0.208197          17  \n",
              "5 -0.613635  0.336747  24.573601    18.323862  19.850634  0.476218          17  \n",
              "6 -1.005647  0.554211  24.576578    18.321936  19.850630  0.670015          17  \n",
              "7 -1.288384  0.706370  24.574949    18.314655  19.850628  0.752035          17  \n",
              "8 -1.490530  0.817339  24.567080    18.306925  19.850626  0.910541          17  \n",
              "9 -1.634464  0.898013  24.553242    18.301733  19.850624  0.924010          17  "
            ],
            "text/html": [
              "\n",
              "  <div id=\"df-3558a7b9-1081-4b13-8885-62aa4e6da713\">\n",
              "    <div class=\"colab-df-container\">\n",
              "      <div>\n",
              "<style scoped>\n",
              "    .dataframe tbody tr th:only-of-type {\n",
              "        vertical-align: middle;\n",
              "    }\n",
              "\n",
              "    .dataframe tbody tr th {\n",
              "        vertical-align: top;\n",
              "    }\n",
              "\n",
              "    .dataframe thead th {\n",
              "        text-align: right;\n",
              "    }\n",
              "</style>\n",
              "<table border=\"1\" class=\"dataframe\">\n",
              "  <thead>\n",
              "    <tr style=\"text-align: right;\">\n",
              "      <th></th>\n",
              "      <th>u_q</th>\n",
              "      <th>coolant</th>\n",
              "      <th>stator_winding</th>\n",
              "      <th>u_d</th>\n",
              "      <th>stator_tooth</th>\n",
              "      <th>motor_speed</th>\n",
              "      <th>i_d</th>\n",
              "      <th>i_q</th>\n",
              "      <th>pm</th>\n",
              "      <th>stator_yoke</th>\n",
              "      <th>ambient</th>\n",
              "      <th>torque</th>\n",
              "      <th>profile_id</th>\n",
              "    </tr>\n",
              "  </thead>\n",
              "  <tbody>\n",
              "    <tr>\n",
              "      <th>0</th>\n",
              "      <td>-0.450682</td>\n",
              "      <td>18.805172</td>\n",
              "      <td>19.086670</td>\n",
              "      <td>-0.350055</td>\n",
              "      <td>18.293219</td>\n",
              "      <td>0.002866</td>\n",
              "      <td>0.004419</td>\n",
              "      <td>0.000328</td>\n",
              "      <td>24.554214</td>\n",
              "      <td>18.316547</td>\n",
              "      <td>19.850691</td>\n",
              "      <td>0.187101</td>\n",
              "      <td>17</td>\n",
              "    </tr>\n",
              "    <tr>\n",
              "      <th>1</th>\n",
              "      <td>-0.325737</td>\n",
              "      <td>18.818571</td>\n",
              "      <td>19.092390</td>\n",
              "      <td>-0.305803</td>\n",
              "      <td>18.294807</td>\n",
              "      <td>0.000257</td>\n",
              "      <td>0.000606</td>\n",
              "      <td>-0.000785</td>\n",
              "      <td>24.538078</td>\n",
              "      <td>18.314955</td>\n",
              "      <td>19.850672</td>\n",
              "      <td>0.245417</td>\n",
              "      <td>17</td>\n",
              "    </tr>\n",
              "    <tr>\n",
              "      <th>2</th>\n",
              "      <td>-0.440864</td>\n",
              "      <td>18.828770</td>\n",
              "      <td>19.089380</td>\n",
              "      <td>-0.372503</td>\n",
              "      <td>18.294094</td>\n",
              "      <td>0.002355</td>\n",
              "      <td>0.001290</td>\n",
              "      <td>0.000386</td>\n",
              "      <td>24.544693</td>\n",
              "      <td>18.326307</td>\n",
              "      <td>19.850657</td>\n",
              "      <td>0.176615</td>\n",
              "      <td>17</td>\n",
              "    </tr>\n",
              "    <tr>\n",
              "      <th>3</th>\n",
              "      <td>-0.327026</td>\n",
              "      <td>18.835567</td>\n",
              "      <td>19.083031</td>\n",
              "      <td>-0.316199</td>\n",
              "      <td>18.292542</td>\n",
              "      <td>0.006105</td>\n",
              "      <td>0.000026</td>\n",
              "      <td>0.002046</td>\n",
              "      <td>24.554018</td>\n",
              "      <td>18.330833</td>\n",
              "      <td>19.850647</td>\n",
              "      <td>0.238303</td>\n",
              "      <td>17</td>\n",
              "    </tr>\n",
              "    <tr>\n",
              "      <th>4</th>\n",
              "      <td>-0.471150</td>\n",
              "      <td>18.857033</td>\n",
              "      <td>19.082525</td>\n",
              "      <td>-0.332272</td>\n",
              "      <td>18.291428</td>\n",
              "      <td>0.003133</td>\n",
              "      <td>-0.064317</td>\n",
              "      <td>0.037184</td>\n",
              "      <td>24.565397</td>\n",
              "      <td>18.326662</td>\n",
              "      <td>19.850639</td>\n",
              "      <td>0.208197</td>\n",
              "      <td>17</td>\n",
              "    </tr>\n",
              "    <tr>\n",
              "      <th>5</th>\n",
              "      <td>-0.538973</td>\n",
              "      <td>18.901548</td>\n",
              "      <td>19.077108</td>\n",
              "      <td>0.009147</td>\n",
              "      <td>18.290628</td>\n",
              "      <td>0.009636</td>\n",
              "      <td>-0.613635</td>\n",
              "      <td>0.336747</td>\n",
              "      <td>24.573601</td>\n",
              "      <td>18.323862</td>\n",
              "      <td>19.850634</td>\n",
              "      <td>0.476218</td>\n",
              "      <td>17</td>\n",
              "    </tr>\n",
              "    <tr>\n",
              "      <th>6</th>\n",
              "      <td>-0.653148</td>\n",
              "      <td>18.941711</td>\n",
              "      <td>19.074583</td>\n",
              "      <td>0.238890</td>\n",
              "      <td>18.292524</td>\n",
              "      <td>0.001337</td>\n",
              "      <td>-1.005647</td>\n",
              "      <td>0.554211</td>\n",
              "      <td>24.576578</td>\n",
              "      <td>18.321936</td>\n",
              "      <td>19.850630</td>\n",
              "      <td>0.670015</td>\n",
              "      <td>17</td>\n",
              "    </tr>\n",
              "    <tr>\n",
              "      <th>7</th>\n",
              "      <td>-0.758392</td>\n",
              "      <td>18.960861</td>\n",
              "      <td>19.082499</td>\n",
              "      <td>0.395099</td>\n",
              "      <td>18.294041</td>\n",
              "      <td>0.001422</td>\n",
              "      <td>-1.288384</td>\n",
              "      <td>0.706370</td>\n",
              "      <td>24.574949</td>\n",
              "      <td>18.314655</td>\n",
              "      <td>19.850628</td>\n",
              "      <td>0.752035</td>\n",
              "      <td>17</td>\n",
              "    </tr>\n",
              "    <tr>\n",
              "      <th>8</th>\n",
              "      <td>-0.727128</td>\n",
              "      <td>18.973545</td>\n",
              "      <td>19.085533</td>\n",
              "      <td>0.546623</td>\n",
              "      <td>18.291964</td>\n",
              "      <td>0.000577</td>\n",
              "      <td>-1.490530</td>\n",
              "      <td>0.817339</td>\n",
              "      <td>24.567080</td>\n",
              "      <td>18.306925</td>\n",
              "      <td>19.850626</td>\n",
              "      <td>0.910541</td>\n",
              "      <td>17</td>\n",
              "    </tr>\n",
              "    <tr>\n",
              "      <th>9</th>\n",
              "      <td>-0.874307</td>\n",
              "      <td>18.987812</td>\n",
              "      <td>19.076025</td>\n",
              "      <td>0.578944</td>\n",
              "      <td>18.287233</td>\n",
              "      <td>-0.001248</td>\n",
              "      <td>-1.634464</td>\n",
              "      <td>0.898013</td>\n",
              "      <td>24.553242</td>\n",
              "      <td>18.301733</td>\n",
              "      <td>19.850624</td>\n",
              "      <td>0.924010</td>\n",
              "      <td>17</td>\n",
              "    </tr>\n",
              "  </tbody>\n",
              "</table>\n",
              "</div>\n",
              "      <button class=\"colab-df-convert\" onclick=\"convertToInteractive('df-3558a7b9-1081-4b13-8885-62aa4e6da713')\"\n",
              "              title=\"Convert this dataframe to an interactive table.\"\n",
              "              style=\"display:none;\">\n",
              "        \n",
              "  <svg xmlns=\"http://www.w3.org/2000/svg\" height=\"24px\"viewBox=\"0 0 24 24\"\n",
              "       width=\"24px\">\n",
              "    <path d=\"M0 0h24v24H0V0z\" fill=\"none\"/>\n",
              "    <path d=\"M18.56 5.44l.94 2.06.94-2.06 2.06-.94-2.06-.94-.94-2.06-.94 2.06-2.06.94zm-11 1L8.5 8.5l.94-2.06 2.06-.94-2.06-.94L8.5 2.5l-.94 2.06-2.06.94zm10 10l.94 2.06.94-2.06 2.06-.94-2.06-.94-.94-2.06-.94 2.06-2.06.94z\"/><path d=\"M17.41 7.96l-1.37-1.37c-.4-.4-.92-.59-1.43-.59-.52 0-1.04.2-1.43.59L10.3 9.45l-7.72 7.72c-.78.78-.78 2.05 0 2.83L4 21.41c.39.39.9.59 1.41.59.51 0 1.02-.2 1.41-.59l7.78-7.78 2.81-2.81c.8-.78.8-2.07 0-2.86zM5.41 20L4 18.59l7.72-7.72 1.47 1.35L5.41 20z\"/>\n",
              "  </svg>\n",
              "      </button>\n",
              "      \n",
              "  <style>\n",
              "    .colab-df-container {\n",
              "      display:flex;\n",
              "      flex-wrap:wrap;\n",
              "      gap: 12px;\n",
              "    }\n",
              "\n",
              "    .colab-df-convert {\n",
              "      background-color: #E8F0FE;\n",
              "      border: none;\n",
              "      border-radius: 50%;\n",
              "      cursor: pointer;\n",
              "      display: none;\n",
              "      fill: #1967D2;\n",
              "      height: 32px;\n",
              "      padding: 0 0 0 0;\n",
              "      width: 32px;\n",
              "    }\n",
              "\n",
              "    .colab-df-convert:hover {\n",
              "      background-color: #E2EBFA;\n",
              "      box-shadow: 0px 1px 2px rgba(60, 64, 67, 0.3), 0px 1px 3px 1px rgba(60, 64, 67, 0.15);\n",
              "      fill: #174EA6;\n",
              "    }\n",
              "\n",
              "    [theme=dark] .colab-df-convert {\n",
              "      background-color: #3B4455;\n",
              "      fill: #D2E3FC;\n",
              "    }\n",
              "\n",
              "    [theme=dark] .colab-df-convert:hover {\n",
              "      background-color: #434B5C;\n",
              "      box-shadow: 0px 1px 3px 1px rgba(0, 0, 0, 0.15);\n",
              "      filter: drop-shadow(0px 1px 2px rgba(0, 0, 0, 0.3));\n",
              "      fill: #FFFFFF;\n",
              "    }\n",
              "  </style>\n",
              "\n",
              "      <script>\n",
              "        const buttonEl =\n",
              "          document.querySelector('#df-3558a7b9-1081-4b13-8885-62aa4e6da713 button.colab-df-convert');\n",
              "        buttonEl.style.display =\n",
              "          google.colab.kernel.accessAllowed ? 'block' : 'none';\n",
              "\n",
              "        async function convertToInteractive(key) {\n",
              "          const element = document.querySelector('#df-3558a7b9-1081-4b13-8885-62aa4e6da713');\n",
              "          const dataTable =\n",
              "            await google.colab.kernel.invokeFunction('convertToInteractive',\n",
              "                                                     [key], {});\n",
              "          if (!dataTable) return;\n",
              "\n",
              "          const docLinkHtml = 'Like what you see? Visit the ' +\n",
              "            '<a target=\"_blank\" href=https://colab.research.google.com/notebooks/data_table.ipynb>data table notebook</a>'\n",
              "            + ' to learn more about interactive tables.';\n",
              "          element.innerHTML = '';\n",
              "          dataTable['output_type'] = 'display_data';\n",
              "          await google.colab.output.renderOutput(dataTable, element);\n",
              "          const docLink = document.createElement('div');\n",
              "          docLink.innerHTML = docLinkHtml;\n",
              "          element.appendChild(docLink);\n",
              "        }\n",
              "      </script>\n",
              "    </div>\n",
              "  </div>\n",
              "  "
            ]
          },
          "metadata": {},
          "execution_count": 97
        }
      ],
      "source": [
        "#import pandas, read csv file from drive and display first 10 rows of dataset\n",
        "df = pd.read_csv('/content/drive/MyDrive/ESOF 3675 Project - Mark Grandell & Jack Fiorot/measures_v2.csv')\n",
        "\n",
        "df.head(10)"
      ]
    },
    {
      "cell_type": "code",
      "execution_count": null,
      "metadata": {
        "id": "9-YNs6zi5WUC"
      },
      "outputs": [],
      "source": [
        "#reorder columns\n",
        "df = df[['u_q', 'coolant', 'u_d', 'motor_speed', 'i_d', 'i_q', 'ambient', 'torque', 'profile_id', 'stator_winding', 'stator_tooth', 'stator_yoke', 'pm']]"
      ]
    },
    {
      "cell_type": "markdown",
      "metadata": {
        "id": "UpDzyZ1McMFK"
      },
      "source": [
        "Preprocessing method 1: Fill missing values with Median"
      ]
    },
    {
      "cell_type": "code",
      "execution_count": null,
      "metadata": {
        "id": "Q6HkFHSyx5-2"
      },
      "outputs": [],
      "source": [
        "#handle missing values\n",
        "df1 = df\n",
        "df1 = df1.fillna(df.median(axis = 0))"
      ]
    },
    {
      "cell_type": "code",
      "execution_count": null,
      "metadata": {
        "id": "ebpJnAMIy9sK"
      },
      "outputs": [],
      "source": [
        "#remove outliers\n",
        "columns = ['u_q', 'coolant', 'u_d', 'motor_speed', 'i_d', 'i_q', 'ambient', 'torque', 'profile_id', 'stator_winding', 'stator_tooth', 'stator_yoke', 'pm']\n",
        "Q1_1 = df1[columns].quantile(0.25)\n",
        "Q3_1 = df1[columns].quantile(0.75)\n",
        "IQR_1 = (Q3_1-Q1_1)\n",
        "df1 = df1[~((df1[columns] < (Q1_1 - 1.5 * IQR_1)) |(df1[columns] > (Q3_1 + 1.5* IQR_1))).any(axis=1)]\n",
        "df1 = df1.fillna(df1.median())"
      ]
    },
    {
      "cell_type": "code",
      "execution_count": null,
      "metadata": {
        "id": "QoN0TR3BVNDC"
      },
      "outputs": [],
      "source": [
        "#extracting independent and dependent variable\n",
        "x1 = ['u_q', 'coolant', 'u_d', 'motor_speed', 'i_d', 'i_q', 'ambient', 'torque', 'profile_id']\n",
        "y1 = ['stator_winding', 'stator_tooth', 'stator_yoke', 'pm']"
      ]
    },
    {
      "cell_type": "code",
      "execution_count": null,
      "metadata": {
        "id": "w9nXBX0f1h5a"
      },
      "outputs": [],
      "source": [
        "#split dataset into train and test set\n",
        "x_train1, x_test1, y_train1, y_test1 = train_test_split(df1[x1],df1[y1],test_size = 0.3)"
      ]
    },
    {
      "cell_type": "code",
      "execution_count": null,
      "metadata": {
        "id": "dc3WXUYc1iOJ"
      },
      "outputs": [],
      "source": [
        "#normalize the data\n",
        "mm = MinMaxScaler() # 0 : 1\n",
        "x_train1 = mm.fit_transform(x_train1)\n",
        "x_test1 = mm.fit_transform(x_test1)"
      ]
    },
    {
      "cell_type": "markdown",
      "metadata": {
        "id": "VZ27mQNvdatl"
      },
      "source": [
        "Preprocessing method 2: Remove rows with missing values or outliers"
      ]
    },
    {
      "cell_type": "code",
      "execution_count": null,
      "metadata": {
        "id": "kQtudLijdx4U"
      },
      "outputs": [],
      "source": [
        "#handle missing values\n",
        "df2 = df\n",
        "df2 = df2.dropna()"
      ]
    },
    {
      "cell_type": "code",
      "execution_count": null,
      "metadata": {
        "id": "pkW0-JAPeOgV"
      },
      "outputs": [],
      "source": [
        "#remove outliers\n",
        "columns = ['u_q', 'coolant', 'u_d', 'motor_speed', 'i_d', 'i_q', 'ambient', 'torque', 'profile_id', 'stator_winding', 'stator_tooth', 'stator_yoke', 'pm']\n",
        "Q1_2 = df2[columns].quantile(0.25)\n",
        "Q3_2 = df2[columns].quantile(0.75)\n",
        "IQR_2 = (Q3_2-Q1_2)\n",
        "df2 = df2[~((df2[columns] < (Q1_2 - 1.5 * IQR_2)) |(df2[columns] > (Q3_2 + 1.5* IQR_2))).any(axis=1)]\n",
        "df2 = df2.dropna()"
      ]
    },
    {
      "cell_type": "code",
      "execution_count": null,
      "metadata": {
        "id": "hXMgeWqnf8aO"
      },
      "outputs": [],
      "source": [
        "#extracting independent and dependent variable\n",
        "x2 = ['u_q', 'coolant', 'u_d', 'motor_speed', 'i_d', 'i_q', 'ambient', 'torque', 'profile_id']\n",
        "y2 = ['stator_winding', 'stator_tooth', 'stator_yoke', 'pm']"
      ]
    },
    {
      "cell_type": "code",
      "execution_count": null,
      "metadata": {
        "id": "xqMy6IDof-JD"
      },
      "outputs": [],
      "source": [
        "#split dataset into train and test set\n",
        "x_train2, x_test2, y_train2, y_test2 = train_test_split(df2[x2],df2[y2],test_size = 0.3, random_state = 100)"
      ]
    },
    {
      "cell_type": "code",
      "execution_count": null,
      "metadata": {
        "id": "JUhWLNSngbkd"
      },
      "outputs": [],
      "source": [
        "#normalize the data\n",
        "x_train2 = mm.fit_transform(x_train2)\n",
        "x_test2 = mm.fit_transform(x_test2)"
      ]
    },
    {
      "cell_type": "markdown",
      "metadata": {
        "id": "1blQDe0Zgz8F"
      },
      "source": [
        "\"Raw Data\" Preprocessing method: only normalize the data"
      ]
    },
    {
      "cell_type": "code",
      "execution_count": null,
      "metadata": {
        "id": "jOVSvZmmg5OI"
      },
      "outputs": [],
      "source": [
        "#extracting independent and dependent variable\n",
        "x3 = ['u_q', 'coolant', 'u_d', 'motor_speed', 'i_d', 'i_q', 'ambient', 'torque', 'profile_id']\n",
        "y3 = ['stator_winding', 'stator_tooth', 'stator_yoke', 'pm']"
      ]
    },
    {
      "cell_type": "code",
      "execution_count": null,
      "metadata": {
        "id": "MRsETghWg9fQ"
      },
      "outputs": [],
      "source": [
        "#split dataset into train and test set\n",
        "x_train3, x_test3, y_train3, y_test3 = train_test_split(df[x3],df[y3],test_size = 0.3, random_state = 100)"
      ]
    },
    {
      "cell_type": "code",
      "execution_count": null,
      "metadata": {
        "id": "_m5idU_IhB_R"
      },
      "outputs": [],
      "source": [
        "#normalize the data\n",
        "x_train3 = mm.fit_transform(x_train3)\n",
        "x_test3 = mm.fit_transform(x_test3)"
      ]
    },
    {
      "cell_type": "markdown",
      "metadata": {
        "id": "vK6cQVmomk45"
      },
      "source": [
        "Preprocessing method 4: replace missing values with mode"
      ]
    },
    {
      "cell_type": "code",
      "execution_count": null,
      "metadata": {
        "id": "w0O09ScNmp2j"
      },
      "outputs": [],
      "source": [
        "#handle missing values\n",
        "df4 = df\n",
        "df4 = df4.fillna(df.mode(axis = 0))"
      ]
    },
    {
      "cell_type": "code",
      "execution_count": null,
      "metadata": {
        "id": "RUbUsdEJmvwA"
      },
      "outputs": [],
      "source": [
        "#remove outliers\n",
        "columns = ['u_q', 'coolant', 'u_d', 'motor_speed', 'i_d', 'i_q', 'ambient', 'torque', 'profile_id', 'stator_winding', 'stator_tooth', 'stator_yoke', 'pm']\n",
        "Q1_4 = df4[columns].quantile(0.25)\n",
        "Q3_4 = df4[columns].quantile(0.75)\n",
        "IQR_4 = (Q3_4-Q1_4)\n",
        "df4 = df4[~((df4[columns] < (Q1_4 - 1.5 * IQR_4)) |(df4[columns] > (Q3_4 + 1.5* IQR_4))).any(axis=1)]\n",
        "df4 = df4.fillna(df4.mode())"
      ]
    },
    {
      "cell_type": "code",
      "execution_count": null,
      "metadata": {
        "id": "8xoLqMl9m8gH"
      },
      "outputs": [],
      "source": [
        "#extracting independent and dependent variable\n",
        "x4 = ['u_q', 'coolant', 'u_d', 'motor_speed', 'i_d', 'i_q', 'ambient', 'torque', 'profile_id']\n",
        "y4 = ['stator_winding', 'stator_tooth', 'stator_yoke', 'pm']"
      ]
    },
    {
      "cell_type": "code",
      "execution_count": null,
      "metadata": {
        "id": "GBqkwBX4m_XL"
      },
      "outputs": [],
      "source": [
        "#split dataset into train and test set\n",
        "x_train4, x_test4, y_train4, y_test4 = train_test_split(df4[x4],df4[y4],test_size = 0.3)"
      ]
    },
    {
      "cell_type": "code",
      "execution_count": null,
      "metadata": {
        "id": "6inQZ2bgnE29"
      },
      "outputs": [],
      "source": [
        "#normalize the data\n",
        "x_train4 = mm.fit_transform(x_train4)\n",
        "x_test4 = mm.fit_transform(x_test4)"
      ]
    },
    {
      "cell_type": "markdown",
      "source": [
        "Preprocessing method 5: exponential weighted moving average"
      ],
      "metadata": {
        "id": "zmpbHG2TV59v"
      }
    },
    {
      "cell_type": "code",
      "source": [
        "# EMA\n",
        "df5 = df\n",
        "df5.ewm(span=5, adjust=False).mean()"
      ],
      "metadata": {
        "id": "FkqakFMNW3I1",
        "colab": {
          "base_uri": "https://localhost:8080/",
          "height": 424
        },
        "outputId": "0bcb78d0-a75e-4703-f50d-184fe4d01052"
      },
      "execution_count": null,
      "outputs": [
        {
          "output_type": "execute_result",
          "data": {
            "text/plain": [
              "              u_q    coolant       u_d  motor_speed       i_d       i_q  \\\n",
              "0       -0.450682  18.805172 -0.350055     0.002866  0.004419  0.000328   \n",
              "1       -0.409033  18.809638 -0.335304     0.001996  0.003148 -0.000043   \n",
              "2       -0.419644  18.816015 -0.347704     0.002116  0.002529  0.000100   \n",
              "3       -0.388771  18.822533 -0.337202     0.003445  0.001694  0.000749   \n",
              "4       -0.416231  18.834033 -0.335559     0.003341 -0.020309  0.012894   \n",
              "...           ...        ...       ...          ...       ...       ...   \n",
              "1330811 -2.184409  30.721253  0.784224    -0.000943 -2.000403  1.097433   \n",
              "1330812 -2.209167  30.721271  0.782449     0.000366 -2.000435  1.097479   \n",
              "1330813 -2.182882  30.721284  0.789938     0.001011 -2.000046  1.097907   \n",
              "1330814 -2.211421  30.721295  0.780989     0.002561 -2.000364  1.097170   \n",
              "1330815 -2.174333  30.721303  0.789762     0.003173 -2.000506  1.096943   \n",
              "\n",
              "           ambient        torque  profile_id  stator_winding  stator_tooth  \\\n",
              "0        19.850691  1.871008e-01        17.0       19.086670     18.293219   \n",
              "1        19.850684  2.065397e-01        17.0       19.088577     18.293748   \n",
              "2        19.850675  1.965649e-01        17.0       19.088845     18.293864   \n",
              "3        19.850666  2.104775e-01        17.0       19.086907     18.293423   \n",
              "4        19.850657  2.097172e-01        17.0       19.085446     18.292758   \n",
              "...            ...           ...         ...             ...           ...   \n",
              "1330811  23.993293 -3.887785e-59        71.0       45.316013     41.950742   \n",
              "1330812  23.985762 -2.785720e-59        71.0       45.290347     41.923469   \n",
              "1330813  23.982920 -1.996056e-59        71.0       45.264090     41.883919   \n",
              "1330814  23.989087 -1.430236e-59        71.0       45.240563     41.843353   \n",
              "1330815  24.001898 -1.024809e-59        71.0       45.204477     41.807156   \n",
              "\n",
              "         stator_yoke         pm  \n",
              "0          18.316547  24.554214  \n",
              "1          18.316017  24.548836  \n",
              "2          18.319447  24.547455  \n",
              "3          18.323242  24.549643  \n",
              "4          18.324382  24.554894  \n",
              "...              ...        ...  \n",
              "1330811    38.664679  62.171289  \n",
              "1330812    38.661895  62.161741  \n",
              "1330813    38.658238  62.153957  \n",
              "1330814    38.657387  62.147112  \n",
              "1330815    38.658382  62.141884  \n",
              "\n",
              "[1330816 rows x 13 columns]"
            ],
            "text/html": [
              "\n",
              "  <div id=\"df-42e7f643-be56-4c4c-bfe9-01e3a09fc2e7\">\n",
              "    <div class=\"colab-df-container\">\n",
              "      <div>\n",
              "<style scoped>\n",
              "    .dataframe tbody tr th:only-of-type {\n",
              "        vertical-align: middle;\n",
              "    }\n",
              "\n",
              "    .dataframe tbody tr th {\n",
              "        vertical-align: top;\n",
              "    }\n",
              "\n",
              "    .dataframe thead th {\n",
              "        text-align: right;\n",
              "    }\n",
              "</style>\n",
              "<table border=\"1\" class=\"dataframe\">\n",
              "  <thead>\n",
              "    <tr style=\"text-align: right;\">\n",
              "      <th></th>\n",
              "      <th>u_q</th>\n",
              "      <th>coolant</th>\n",
              "      <th>u_d</th>\n",
              "      <th>motor_speed</th>\n",
              "      <th>i_d</th>\n",
              "      <th>i_q</th>\n",
              "      <th>ambient</th>\n",
              "      <th>torque</th>\n",
              "      <th>profile_id</th>\n",
              "      <th>stator_winding</th>\n",
              "      <th>stator_tooth</th>\n",
              "      <th>stator_yoke</th>\n",
              "      <th>pm</th>\n",
              "    </tr>\n",
              "  </thead>\n",
              "  <tbody>\n",
              "    <tr>\n",
              "      <th>0</th>\n",
              "      <td>-0.450682</td>\n",
              "      <td>18.805172</td>\n",
              "      <td>-0.350055</td>\n",
              "      <td>0.002866</td>\n",
              "      <td>0.004419</td>\n",
              "      <td>0.000328</td>\n",
              "      <td>19.850691</td>\n",
              "      <td>1.871008e-01</td>\n",
              "      <td>17.0</td>\n",
              "      <td>19.086670</td>\n",
              "      <td>18.293219</td>\n",
              "      <td>18.316547</td>\n",
              "      <td>24.554214</td>\n",
              "    </tr>\n",
              "    <tr>\n",
              "      <th>1</th>\n",
              "      <td>-0.409033</td>\n",
              "      <td>18.809638</td>\n",
              "      <td>-0.335304</td>\n",
              "      <td>0.001996</td>\n",
              "      <td>0.003148</td>\n",
              "      <td>-0.000043</td>\n",
              "      <td>19.850684</td>\n",
              "      <td>2.065397e-01</td>\n",
              "      <td>17.0</td>\n",
              "      <td>19.088577</td>\n",
              "      <td>18.293748</td>\n",
              "      <td>18.316017</td>\n",
              "      <td>24.548836</td>\n",
              "    </tr>\n",
              "    <tr>\n",
              "      <th>2</th>\n",
              "      <td>-0.419644</td>\n",
              "      <td>18.816015</td>\n",
              "      <td>-0.347704</td>\n",
              "      <td>0.002116</td>\n",
              "      <td>0.002529</td>\n",
              "      <td>0.000100</td>\n",
              "      <td>19.850675</td>\n",
              "      <td>1.965649e-01</td>\n",
              "      <td>17.0</td>\n",
              "      <td>19.088845</td>\n",
              "      <td>18.293864</td>\n",
              "      <td>18.319447</td>\n",
              "      <td>24.547455</td>\n",
              "    </tr>\n",
              "    <tr>\n",
              "      <th>3</th>\n",
              "      <td>-0.388771</td>\n",
              "      <td>18.822533</td>\n",
              "      <td>-0.337202</td>\n",
              "      <td>0.003445</td>\n",
              "      <td>0.001694</td>\n",
              "      <td>0.000749</td>\n",
              "      <td>19.850666</td>\n",
              "      <td>2.104775e-01</td>\n",
              "      <td>17.0</td>\n",
              "      <td>19.086907</td>\n",
              "      <td>18.293423</td>\n",
              "      <td>18.323242</td>\n",
              "      <td>24.549643</td>\n",
              "    </tr>\n",
              "    <tr>\n",
              "      <th>4</th>\n",
              "      <td>-0.416231</td>\n",
              "      <td>18.834033</td>\n",
              "      <td>-0.335559</td>\n",
              "      <td>0.003341</td>\n",
              "      <td>-0.020309</td>\n",
              "      <td>0.012894</td>\n",
              "      <td>19.850657</td>\n",
              "      <td>2.097172e-01</td>\n",
              "      <td>17.0</td>\n",
              "      <td>19.085446</td>\n",
              "      <td>18.292758</td>\n",
              "      <td>18.324382</td>\n",
              "      <td>24.554894</td>\n",
              "    </tr>\n",
              "    <tr>\n",
              "      <th>...</th>\n",
              "      <td>...</td>\n",
              "      <td>...</td>\n",
              "      <td>...</td>\n",
              "      <td>...</td>\n",
              "      <td>...</td>\n",
              "      <td>...</td>\n",
              "      <td>...</td>\n",
              "      <td>...</td>\n",
              "      <td>...</td>\n",
              "      <td>...</td>\n",
              "      <td>...</td>\n",
              "      <td>...</td>\n",
              "      <td>...</td>\n",
              "    </tr>\n",
              "    <tr>\n",
              "      <th>1330811</th>\n",
              "      <td>-2.184409</td>\n",
              "      <td>30.721253</td>\n",
              "      <td>0.784224</td>\n",
              "      <td>-0.000943</td>\n",
              "      <td>-2.000403</td>\n",
              "      <td>1.097433</td>\n",
              "      <td>23.993293</td>\n",
              "      <td>-3.887785e-59</td>\n",
              "      <td>71.0</td>\n",
              "      <td>45.316013</td>\n",
              "      <td>41.950742</td>\n",
              "      <td>38.664679</td>\n",
              "      <td>62.171289</td>\n",
              "    </tr>\n",
              "    <tr>\n",
              "      <th>1330812</th>\n",
              "      <td>-2.209167</td>\n",
              "      <td>30.721271</td>\n",
              "      <td>0.782449</td>\n",
              "      <td>0.000366</td>\n",
              "      <td>-2.000435</td>\n",
              "      <td>1.097479</td>\n",
              "      <td>23.985762</td>\n",
              "      <td>-2.785720e-59</td>\n",
              "      <td>71.0</td>\n",
              "      <td>45.290347</td>\n",
              "      <td>41.923469</td>\n",
              "      <td>38.661895</td>\n",
              "      <td>62.161741</td>\n",
              "    </tr>\n",
              "    <tr>\n",
              "      <th>1330813</th>\n",
              "      <td>-2.182882</td>\n",
              "      <td>30.721284</td>\n",
              "      <td>0.789938</td>\n",
              "      <td>0.001011</td>\n",
              "      <td>-2.000046</td>\n",
              "      <td>1.097907</td>\n",
              "      <td>23.982920</td>\n",
              "      <td>-1.996056e-59</td>\n",
              "      <td>71.0</td>\n",
              "      <td>45.264090</td>\n",
              "      <td>41.883919</td>\n",
              "      <td>38.658238</td>\n",
              "      <td>62.153957</td>\n",
              "    </tr>\n",
              "    <tr>\n",
              "      <th>1330814</th>\n",
              "      <td>-2.211421</td>\n",
              "      <td>30.721295</td>\n",
              "      <td>0.780989</td>\n",
              "      <td>0.002561</td>\n",
              "      <td>-2.000364</td>\n",
              "      <td>1.097170</td>\n",
              "      <td>23.989087</td>\n",
              "      <td>-1.430236e-59</td>\n",
              "      <td>71.0</td>\n",
              "      <td>45.240563</td>\n",
              "      <td>41.843353</td>\n",
              "      <td>38.657387</td>\n",
              "      <td>62.147112</td>\n",
              "    </tr>\n",
              "    <tr>\n",
              "      <th>1330815</th>\n",
              "      <td>-2.174333</td>\n",
              "      <td>30.721303</td>\n",
              "      <td>0.789762</td>\n",
              "      <td>0.003173</td>\n",
              "      <td>-2.000506</td>\n",
              "      <td>1.096943</td>\n",
              "      <td>24.001898</td>\n",
              "      <td>-1.024809e-59</td>\n",
              "      <td>71.0</td>\n",
              "      <td>45.204477</td>\n",
              "      <td>41.807156</td>\n",
              "      <td>38.658382</td>\n",
              "      <td>62.141884</td>\n",
              "    </tr>\n",
              "  </tbody>\n",
              "</table>\n",
              "<p>1330816 rows × 13 columns</p>\n",
              "</div>\n",
              "      <button class=\"colab-df-convert\" onclick=\"convertToInteractive('df-42e7f643-be56-4c4c-bfe9-01e3a09fc2e7')\"\n",
              "              title=\"Convert this dataframe to an interactive table.\"\n",
              "              style=\"display:none;\">\n",
              "        \n",
              "  <svg xmlns=\"http://www.w3.org/2000/svg\" height=\"24px\"viewBox=\"0 0 24 24\"\n",
              "       width=\"24px\">\n",
              "    <path d=\"M0 0h24v24H0V0z\" fill=\"none\"/>\n",
              "    <path d=\"M18.56 5.44l.94 2.06.94-2.06 2.06-.94-2.06-.94-.94-2.06-.94 2.06-2.06.94zm-11 1L8.5 8.5l.94-2.06 2.06-.94-2.06-.94L8.5 2.5l-.94 2.06-2.06.94zm10 10l.94 2.06.94-2.06 2.06-.94-2.06-.94-.94-2.06-.94 2.06-2.06.94z\"/><path d=\"M17.41 7.96l-1.37-1.37c-.4-.4-.92-.59-1.43-.59-.52 0-1.04.2-1.43.59L10.3 9.45l-7.72 7.72c-.78.78-.78 2.05 0 2.83L4 21.41c.39.39.9.59 1.41.59.51 0 1.02-.2 1.41-.59l7.78-7.78 2.81-2.81c.8-.78.8-2.07 0-2.86zM5.41 20L4 18.59l7.72-7.72 1.47 1.35L5.41 20z\"/>\n",
              "  </svg>\n",
              "      </button>\n",
              "      \n",
              "  <style>\n",
              "    .colab-df-container {\n",
              "      display:flex;\n",
              "      flex-wrap:wrap;\n",
              "      gap: 12px;\n",
              "    }\n",
              "\n",
              "    .colab-df-convert {\n",
              "      background-color: #E8F0FE;\n",
              "      border: none;\n",
              "      border-radius: 50%;\n",
              "      cursor: pointer;\n",
              "      display: none;\n",
              "      fill: #1967D2;\n",
              "      height: 32px;\n",
              "      padding: 0 0 0 0;\n",
              "      width: 32px;\n",
              "    }\n",
              "\n",
              "    .colab-df-convert:hover {\n",
              "      background-color: #E2EBFA;\n",
              "      box-shadow: 0px 1px 2px rgba(60, 64, 67, 0.3), 0px 1px 3px 1px rgba(60, 64, 67, 0.15);\n",
              "      fill: #174EA6;\n",
              "    }\n",
              "\n",
              "    [theme=dark] .colab-df-convert {\n",
              "      background-color: #3B4455;\n",
              "      fill: #D2E3FC;\n",
              "    }\n",
              "\n",
              "    [theme=dark] .colab-df-convert:hover {\n",
              "      background-color: #434B5C;\n",
              "      box-shadow: 0px 1px 3px 1px rgba(0, 0, 0, 0.15);\n",
              "      filter: drop-shadow(0px 1px 2px rgba(0, 0, 0, 0.3));\n",
              "      fill: #FFFFFF;\n",
              "    }\n",
              "  </style>\n",
              "\n",
              "      <script>\n",
              "        const buttonEl =\n",
              "          document.querySelector('#df-42e7f643-be56-4c4c-bfe9-01e3a09fc2e7 button.colab-df-convert');\n",
              "        buttonEl.style.display =\n",
              "          google.colab.kernel.accessAllowed ? 'block' : 'none';\n",
              "\n",
              "        async function convertToInteractive(key) {\n",
              "          const element = document.querySelector('#df-42e7f643-be56-4c4c-bfe9-01e3a09fc2e7');\n",
              "          const dataTable =\n",
              "            await google.colab.kernel.invokeFunction('convertToInteractive',\n",
              "                                                     [key], {});\n",
              "          if (!dataTable) return;\n",
              "\n",
              "          const docLinkHtml = 'Like what you see? Visit the ' +\n",
              "            '<a target=\"_blank\" href=https://colab.research.google.com/notebooks/data_table.ipynb>data table notebook</a>'\n",
              "            + ' to learn more about interactive tables.';\n",
              "          element.innerHTML = '';\n",
              "          dataTable['output_type'] = 'display_data';\n",
              "          await google.colab.output.renderOutput(dataTable, element);\n",
              "          const docLink = document.createElement('div');\n",
              "          docLink.innerHTML = docLinkHtml;\n",
              "          element.appendChild(docLink);\n",
              "        }\n",
              "      </script>\n",
              "    </div>\n",
              "  </div>\n",
              "  "
            ]
          },
          "metadata": {},
          "execution_count": 117
        }
      ]
    },
    {
      "cell_type": "code",
      "source": [
        "#extracting independent and dependent variable\n",
        "x5 = ['u_q', 'coolant', 'u_d', 'motor_speed', 'i_d', 'i_q', 'ambient', 'torque', 'profile_id']\n",
        "y5 = ['stator_winding', 'stator_tooth', 'stator_yoke', 'pm']"
      ],
      "metadata": {
        "id": "j9IJdcbz4Mpp"
      },
      "execution_count": null,
      "outputs": []
    },
    {
      "cell_type": "code",
      "source": [
        "#split dataset into train and test set\n",
        "x_train5, x_test5, y_train5, y_test5 = train_test_split(df5[x5],df5[y5],test_size = 0.3, random_state = 100)"
      ],
      "metadata": {
        "id": "pGItztV53_jU"
      },
      "execution_count": null,
      "outputs": []
    },
    {
      "cell_type": "code",
      "source": [
        "#normalize the data\n",
        "x_train5 = mm.fit_transform(x_train5)\n",
        "x_test5 = mm.fit_transform(x_test5)"
      ],
      "metadata": {
        "id": "RZuvRFo64FfS"
      },
      "execution_count": null,
      "outputs": []
    },
    {
      "cell_type": "markdown",
      "metadata": {
        "id": "gEGM6wm_5xVg"
      },
      "source": [
        "# Model 1: Linear Regression (LR)\n"
      ]
    },
    {
      "cell_type": "code",
      "execution_count": null,
      "metadata": {
        "id": "gCVvzV5w5uWi"
      },
      "outputs": [],
      "source": [
        "#make model\n",
        "linreg = LinearRegression()"
      ]
    },
    {
      "cell_type": "code",
      "execution_count": null,
      "metadata": {
        "id": "95SHkLk66dXn"
      },
      "outputs": [],
      "source": [
        "#fit data to model\n",
        "linreg.fit(x_train1, y_train1)\n",
        "lr_pred1 = linreg.predict(x_test1)\n",
        "linreg.fit(x_train2, y_train2)\n",
        "lr_pred2 = linreg.predict(x_test2)\n",
        "linreg.fit(x_train3, y_train3)\n",
        "lr_pred3 = linreg.predict(x_test3)\n",
        "linreg.fit(x_train4, y_train4)\n",
        "lr_pred4 = linreg.predict(x_test4)"
      ]
    },
    {
      "cell_type": "code",
      "execution_count": null,
      "metadata": {
        "id": "N2o0-Vga6oXb"
      },
      "outputs": [],
      "source": [
        "#mean squared error calculation \n",
        "mse1 = mean_squared_error(y_test1, lr_pred1)\n",
        "mse2 = mean_squared_error(y_test2, lr_pred2)\n",
        "mse3 = mean_squared_error(y_test3, lr_pred3)\n",
        "mse4 = mean_squared_error(y_test4, lr_pred4)"
      ]
    },
    {
      "cell_type": "code",
      "execution_count": null,
      "metadata": {
        "id": "U6bsdwsU6s12"
      },
      "outputs": [],
      "source": [
        "#r2 score calculation\n",
        "r2s1 = r2_score(y_test1, lr_pred1)\n",
        "r2s2 = r2_score(y_test2, lr_pred2)\n",
        "r2s3 = r2_score(y_test3, lr_pred3)\n",
        "r2s4 = r2_score(y_test4, lr_pred4)"
      ]
    },
    {
      "cell_type": "code",
      "execution_count": null,
      "metadata": {
        "id": "JKcgF2Xmxl0c"
      },
      "outputs": [],
      "source": [
        "#mean absolute error calculation\n",
        "mae1 = mean_absolute_error(y_test1, lr_pred1)\n",
        "mae2 = mean_absolute_error(y_test2, lr_pred2)\n",
        "mae3 = mean_absolute_error(y_test3, lr_pred3)\n",
        "mae4 = mean_absolute_error(y_test4, lr_pred4)"
      ]
    },
    {
      "cell_type": "code",
      "execution_count": null,
      "metadata": {
        "id": "8hN9LdfDjzM3",
        "colab": {
          "base_uri": "https://localhost:8080/"
        },
        "outputId": "63983164-311e-4778-ae3e-032f68f5c1fe"
      },
      "outputs": [
        {
          "output_type": "stream",
          "name": "stdout",
          "text": [
            "Preprocessing method 1 results: \n",
            "MSE1 =  137.12553701764168\n",
            "R2 Score 1 =  0.7390240693953467\n",
            "MAE 1 =  8.475797929053256\n"
          ]
        }
      ],
      "source": [
        "#print results for method 1\n",
        "print(\"Preprocessing method 1 results: \")\n",
        "print(\"MSE1 = \", mse1)\n",
        "print(\"R2 Score 1 = \", r2s1)\n",
        "print(\"MAE 1 = \", mae1)"
      ]
    },
    {
      "cell_type": "code",
      "execution_count": null,
      "metadata": {
        "id": "7j7U6WCskYij",
        "colab": {
          "base_uri": "https://localhost:8080/"
        },
        "outputId": "50fdd304-c0a5-45bc-d8d1-7833ecc5614e"
      },
      "outputs": [
        {
          "output_type": "stream",
          "name": "stdout",
          "text": [
            "Preprocessing method 2 results: \n",
            "MSE2 = 136.804168595504\n",
            "R2 Score 2 = 0.7388535134488017\n",
            "MAE 2 =  8.492990235100283\n"
          ]
        }
      ],
      "source": [
        "#print results for method 2\n",
        "print(\"Preprocessing method 2 results: \")\n",
        "print(\"MSE2 =\", mse2)\n",
        "print(\"R2 Score 2 =\", r2s2)\n",
        "print(\"MAE 2 = \", mae2)"
      ]
    },
    {
      "cell_type": "code",
      "execution_count": null,
      "metadata": {
        "id": "OZ7hPZyFkZNB",
        "colab": {
          "base_uri": "https://localhost:8080/"
        },
        "outputId": "65cc139a-e0a8-4b90-a681-f1c2cae94cd8"
      },
      "outputs": [
        {
          "output_type": "stream",
          "name": "stdout",
          "text": [
            "Preprocessing method 3 results: \n",
            "MSE3 = 176.2366658500748\n",
            "R2 Score 3 = 0.6491452952323984\n",
            "MAE 3 =  9.59484390701583\n"
          ]
        }
      ],
      "source": [
        "#print results for method 3\n",
        "print(\"Preprocessing method 3 results: \")\n",
        "print(\"MSE3 =\", mse3)\n",
        "print(\"R2 Score 3 =\", r2s3)\n",
        "print(\"MAE 3 = \", mae3)"
      ]
    },
    {
      "cell_type": "code",
      "execution_count": null,
      "metadata": {
        "id": "xaoqadQAnibF",
        "colab": {
          "base_uri": "https://localhost:8080/"
        },
        "outputId": "a73e18ad-a78f-4e90-b0ba-d7f3de8d8b0c"
      },
      "outputs": [
        {
          "output_type": "stream",
          "name": "stdout",
          "text": [
            "Preprocessing method 4 results: \n",
            "MSE4 = 136.8282218501404\n",
            "R2 Score 4 = 0.7392749538911634\n",
            "MAE 4 =  8.4687704490747\n"
          ]
        }
      ],
      "source": [
        "#print results for method 4\n",
        "print(\"Preprocessing method 4 results: \")\n",
        "print(\"MSE4 =\", mse4)\n",
        "print(\"R2 Score 4 =\", r2s4)\n",
        "print(\"MAE 4 = \", mae4)"
      ]
    },
    {
      "cell_type": "markdown",
      "metadata": {
        "id": "u_qRmIw8gSh2"
      },
      "source": [
        "# Model 2: K-Nearest Neighbours (KNN)"
      ]
    },
    {
      "cell_type": "code",
      "execution_count": null,
      "metadata": {
        "id": "pDYaTQubhm4M"
      },
      "outputs": [],
      "source": [
        "#make model\n",
        "knn = KNeighborsRegressor()"
      ]
    },
    {
      "cell_type": "code",
      "execution_count": null,
      "metadata": {
        "id": "_NZxmXbXiujH",
        "colab": {
          "base_uri": "https://localhost:8080/"
        },
        "outputId": "21a7a3c0-30a7-4f3a-faa6-3b44db92669c"
      },
      "outputs": [
        {
          "output_type": "execute_result",
          "data": {
            "text/plain": [
              "KNeighborsRegressor()"
            ]
          },
          "metadata": {},
          "execution_count": 131
        }
      ],
      "source": [
        "#fit data to model\n",
        "knn.fit(x_train2, y_train2)"
      ]
    },
    {
      "cell_type": "code",
      "execution_count": null,
      "metadata": {
        "id": "CcZshPtUi6FQ"
      },
      "outputs": [],
      "source": [
        "#run prediction\n",
        "knn_pred = knn.predict(x_test2)"
      ]
    },
    {
      "cell_type": "code",
      "execution_count": null,
      "metadata": {
        "id": "RWERf4OvjC0C"
      },
      "outputs": [],
      "source": [
        "#mean squared error calculation\n",
        "knn_mse = mean_squared_error(y_test2, knn_pred)"
      ]
    },
    {
      "cell_type": "code",
      "execution_count": null,
      "metadata": {
        "id": "2fBaLGaAjFYZ"
      },
      "outputs": [],
      "source": [
        "#r2 score calculation\n",
        "knn_r2 = r2_score(y_test2, knn_pred)"
      ]
    },
    {
      "cell_type": "code",
      "execution_count": null,
      "metadata": {
        "id": "oXnkY0SJyILZ"
      },
      "outputs": [],
      "source": [
        "#mean absolute error calculation\n",
        "knn_mae = mean_absolute_error(y_test2, knn_pred)"
      ]
    },
    {
      "cell_type": "markdown",
      "metadata": {
        "id": "JGDO7cfugZ4h"
      },
      "source": [
        "# Model 3: Decision Tree Regression (DT)"
      ]
    },
    {
      "cell_type": "code",
      "execution_count": null,
      "metadata": {
        "id": "fah_Gkb2bFQV"
      },
      "outputs": [],
      "source": [
        "#make model\n",
        "dt = tree.DecisionTreeRegressor()"
      ]
    },
    {
      "cell_type": "code",
      "execution_count": null,
      "metadata": {
        "id": "fIu8XzaRpA0O",
        "colab": {
          "base_uri": "https://localhost:8080/"
        },
        "outputId": "1b32d668-83e5-4a16-f74f-119146b601a9"
      },
      "outputs": [
        {
          "output_type": "execute_result",
          "data": {
            "text/plain": [
              "DecisionTreeRegressor()"
            ]
          },
          "metadata": {},
          "execution_count": 137
        }
      ],
      "source": [
        "#fit data to model\n",
        "dt.fit(x_train2, y_train2)"
      ]
    },
    {
      "cell_type": "code",
      "execution_count": null,
      "metadata": {
        "id": "xtFUhYF5pDfo"
      },
      "outputs": [],
      "source": [
        "#run prediction\n",
        "dt_pred = dt.predict(x_test2)"
      ]
    },
    {
      "cell_type": "code",
      "execution_count": null,
      "metadata": {
        "id": "zJMSAxTdpG48"
      },
      "outputs": [],
      "source": [
        "#mean squared error calculation\n",
        "dt_mse = mean_squared_error(y_test2, dt_pred)"
      ]
    },
    {
      "cell_type": "code",
      "execution_count": null,
      "metadata": {
        "id": "F-TEetGYpJ_S"
      },
      "outputs": [],
      "source": [
        "#r2 score calculation\n",
        "dt_r2 = r2_score(y_test2, dt_pred)"
      ]
    },
    {
      "cell_type": "code",
      "execution_count": null,
      "metadata": {
        "id": "ILnB0_7TyStQ"
      },
      "outputs": [],
      "source": [
        "#mean absolute error calculation\n",
        "dt_mae = mean_absolute_error(y_test2, dt_pred)"
      ]
    },
    {
      "cell_type": "markdown",
      "metadata": {
        "id": "EkgpyycigfMr"
      },
      "source": [
        "# Model 4: Lasso Regression"
      ]
    },
    {
      "cell_type": "code",
      "execution_count": null,
      "metadata": {
        "id": "KNCnF9IHsyB2"
      },
      "outputs": [],
      "source": [
        "#make model\n",
        "l = Lasso()"
      ]
    },
    {
      "cell_type": "code",
      "execution_count": null,
      "metadata": {
        "id": "3XRrZ6XjtCmb",
        "colab": {
          "base_uri": "https://localhost:8080/"
        },
        "outputId": "83d4789c-f500-4a63-e2cd-b856b13f701e"
      },
      "outputs": [
        {
          "output_type": "execute_result",
          "data": {
            "text/plain": [
              "Lasso()"
            ]
          },
          "metadata": {},
          "execution_count": 143
        }
      ],
      "source": [
        "#fit data to model\n",
        "l.fit(x_train2, y_train2)"
      ]
    },
    {
      "cell_type": "code",
      "execution_count": null,
      "metadata": {
        "id": "vQ02eI9xtEq7"
      },
      "outputs": [],
      "source": [
        "#run prediction\n",
        "l_pred = l.predict(x_test2)"
      ]
    },
    {
      "cell_type": "code",
      "execution_count": null,
      "metadata": {
        "id": "ybCyd1HytI57"
      },
      "outputs": [],
      "source": [
        "#mean squared error calculation\n",
        "l_mse = mean_squared_error(y_test2, l_pred)"
      ]
    },
    {
      "cell_type": "code",
      "execution_count": null,
      "metadata": {
        "id": "zduVPF_QtM_u"
      },
      "outputs": [],
      "source": [
        "#r2 score calculation\n",
        "l_r2 = r2_score(y_test2, l_pred)"
      ]
    },
    {
      "cell_type": "code",
      "execution_count": null,
      "metadata": {
        "id": "zSbKgMhXyY1o"
      },
      "outputs": [],
      "source": [
        "#mean absolute error calculation\n",
        "l_mae = mean_absolute_error(y_test2, l_pred)"
      ]
    },
    {
      "cell_type": "markdown",
      "source": [
        "# Graphs"
      ],
      "metadata": {
        "id": "AWNfLMjuGNBa"
      }
    },
    {
      "cell_type": "code",
      "source": [
        "#graphs to compare actual vs predicted temperatures for knn model\n",
        "list_of_targets = ['stator_winding', 'stator_tooth', 'stator_yoke', 'pm']\n",
        "pred_df = pd.DataFrame(knn_pred, columns = ['stator_winding', 'stator_tooth', 'stator_yoke', 'pm'])\n",
        "\n",
        "plt.style.use('ggplot') \n",
        "\n",
        "fig, axs = plt.subplots(1,4, figsize=(20,5), squeeze=False)\n",
        "plt.suptitle('MSE Evaluations')\n",
        "y = 0\n",
        "\n",
        "for x in list_of_targets:\n",
        "  sb.kdeplot(y_test2[x], ax = axs[0, y], shade = True, legend = False, color = 'darkcyan')\n",
        "  sb.kdeplot(pred_df[x], ax = axs[0, y], shade = False, legend = False, color = 'firebrick')\n",
        "  axs[0,y].set_title(list_of_targets[y])\n",
        "  axs[0, y].set_xlabel('Sample ID')\n",
        "  axs[0, y].set_ylabel('Temperature')\n",
        "  axs[0, y].legend(title = 'Data', loc = 'upper right', labels = ['Actual', 'Prediction'])\n",
        "  y += 1"
      ],
      "metadata": {
        "colab": {
          "base_uri": "https://localhost:8080/",
          "height": 373
        },
        "id": "MUiWMpPMHK9s",
        "outputId": "177a05cc-d246-4894-a727-dac1fc1439c7"
      },
      "execution_count": null,
      "outputs": [
        {
          "output_type": "display_data",
          "data": {
            "text/plain": [
              "<Figure size 1440x360 with 4 Axes>"
            ],
            "image/png": "[encoded data removed]"
          },
          "metadata": {}
        }
      ]
    },
    {
      "cell_type": "code",
      "source": [
        "fig.savefig('/content/drive/MyDrive/ESOF 3675 Project - Mark Grandell & Jack Fiorot/predvsactualgraphs.png')"
      ],
      "metadata": {
        "id": "0KzuXNXJU8no"
      },
      "execution_count": null,
      "outputs": []
    },
    {
      "cell_type": "code",
      "source": [
        "#making dataset to compare accuracy scores\n",
        "models_df = pd.DataFrame({\n",
        "    'Algorithm': ['Linear Regression','K-Nearest Neighbours', 'Decision Tree',  'Lasso Regression'],\n",
        "    'MSE Score' : [mse2, knn_mse, dt_mse, l_mse],\n",
        "    'MAE Score' : [mae2, knn_mae, dt_mae, l_mae],\n",
        "    'R2 Score': [ r2s2, knn_r2, dt_r2, l_r2],\n",
        "})\n",
        "\n",
        "models_df.sort_values(by = ['MSE Score', 'MAE Score', 'R2 Score'], ascending = True)"
      ],
      "metadata": {
        "colab": {
          "base_uri": "https://localhost:8080/",
          "height": 175
        },
        "id": "YsmMc8ctLNoI",
        "outputId": "12a9fd80-f5b6-4db0-c666-06a762ca634e"
      },
      "execution_count": null,
      "outputs": [
        {
          "output_type": "execute_result",
          "data": {
            "text/plain": [
              "              Algorithm   MSE Score  MAE Score  R2 Score\n",
              "1  K-Nearest Neighbours   21.854359   2.122178  0.961317\n",
              "2         Decision Tree   89.759898   4.661784  0.839772\n",
              "0     Linear Regression  136.804169   8.492990  0.738854\n",
              "3      Lasso Regression  184.271519  10.781583  0.634639"
            ],
            "text/html": [
              "\n",
              "  <div id=\"df-4febdcde-de96-4bcb-a333-89b8db5d75db\">\n",
              "    <div class=\"colab-df-container\">\n",
              "      <div>\n",
              "<style scoped>\n",
              "    .dataframe tbody tr th:only-of-type {\n",
              "        vertical-align: middle;\n",
              "    }\n",
              "\n",
              "    .dataframe tbody tr th {\n",
              "        vertical-align: top;\n",
              "    }\n",
              "\n",
              "    .dataframe thead th {\n",
              "        text-align: right;\n",
              "    }\n",
              "</style>\n",
              "<table border=\"1\" class=\"dataframe\">\n",
              "  <thead>\n",
              "    <tr style=\"text-align: right;\">\n",
              "      <th></th>\n",
              "      <th>Algorithm</th>\n",
              "      <th>MSE Score</th>\n",
              "      <th>MAE Score</th>\n",
              "      <th>R2 Score</th>\n",
              "    </tr>\n",
              "  </thead>\n",
              "  <tbody>\n",
              "    <tr>\n",
              "      <th>1</th>\n",
              "      <td>K-Nearest Neighbours</td>\n",
              "      <td>21.854359</td>\n",
              "      <td>2.122178</td>\n",
              "      <td>0.961317</td>\n",
              "    </tr>\n",
              "    <tr>\n",
              "      <th>2</th>\n",
              "      <td>Decision Tree</td>\n",
              "      <td>89.759898</td>\n",
              "      <td>4.661784</td>\n",
              "      <td>0.839772</td>\n",
              "    </tr>\n",
              "    <tr>\n",
              "      <th>0</th>\n",
              "      <td>Linear Regression</td>\n",
              "      <td>136.804169</td>\n",
              "      <td>8.492990</td>\n",
              "      <td>0.738854</td>\n",
              "    </tr>\n",
              "    <tr>\n",
              "      <th>3</th>\n",
              "      <td>Lasso Regression</td>\n",
              "      <td>184.271519</td>\n",
              "      <td>10.781583</td>\n",
              "      <td>0.634639</td>\n",
              "    </tr>\n",
              "  </tbody>\n",
              "</table>\n",
              "</div>\n",
              "      <button class=\"colab-df-convert\" onclick=\"convertToInteractive('df-4febdcde-de96-4bcb-a333-89b8db5d75db')\"\n",
              "              title=\"Convert this dataframe to an interactive table.\"\n",
              "              style=\"display:none;\">\n",
              "        \n",
              "  <svg xmlns=\"http://www.w3.org/2000/svg\" height=\"24px\"viewBox=\"0 0 24 24\"\n",
              "       width=\"24px\">\n",
              "    <path d=\"M0 0h24v24H0V0z\" fill=\"none\"/>\n",
              "    <path d=\"M18.56 5.44l.94 2.06.94-2.06 2.06-.94-2.06-.94-.94-2.06-.94 2.06-2.06.94zm-11 1L8.5 8.5l.94-2.06 2.06-.94-2.06-.94L8.5 2.5l-.94 2.06-2.06.94zm10 10l.94 2.06.94-2.06 2.06-.94-2.06-.94-.94-2.06-.94 2.06-2.06.94z\"/><path d=\"M17.41 7.96l-1.37-1.37c-.4-.4-.92-.59-1.43-.59-.52 0-1.04.2-1.43.59L10.3 9.45l-7.72 7.72c-.78.78-.78 2.05 0 2.83L4 21.41c.39.39.9.59 1.41.59.51 0 1.02-.2 1.41-.59l7.78-7.78 2.81-2.81c.8-.78.8-2.07 0-2.86zM5.41 20L4 18.59l7.72-7.72 1.47 1.35L5.41 20z\"/>\n",
              "  </svg>\n",
              "      </button>\n",
              "      \n",
              "  <style>\n",
              "    .colab-df-container {\n",
              "      display:flex;\n",
              "      flex-wrap:wrap;\n",
              "      gap: 12px;\n",
              "    }\n",
              "\n",
              "    .colab-df-convert {\n",
              "      background-color: #E8F0FE;\n",
              "      border: none;\n",
              "      border-radius: 50%;\n",
              "      cursor: pointer;\n",
              "      display: none;\n",
              "      fill: #1967D2;\n",
              "      height: 32px;\n",
              "      padding: 0 0 0 0;\n",
              "      width: 32px;\n",
              "    }\n",
              "\n",
              "    .colab-df-convert:hover {\n",
              "      background-color: #E2EBFA;\n",
              "      box-shadow: 0px 1px 2px rgba(60, 64, 67, 0.3), 0px 1px 3px 1px rgba(60, 64, 67, 0.15);\n",
              "      fill: #174EA6;\n",
              "    }\n",
              "\n",
              "    [theme=dark] .colab-df-convert {\n",
              "      background-color: #3B4455;\n",
              "      fill: #D2E3FC;\n",
              "    }\n",
              "\n",
              "    [theme=dark] .colab-df-convert:hover {\n",
              "      background-color: #434B5C;\n",
              "      box-shadow: 0px 1px 3px 1px rgba(0, 0, 0, 0.15);\n",
              "      filter: drop-shadow(0px 1px 2px rgba(0, 0, 0, 0.3));\n",
              "      fill: #FFFFFF;\n",
              "    }\n",
              "  </style>\n",
              "\n",
              "      <script>\n",
              "        const buttonEl =\n",
              "          document.querySelector('#df-4febdcde-de96-4bcb-a333-89b8db5d75db button.colab-df-convert');\n",
              "        buttonEl.style.display =\n",
              "          google.colab.kernel.accessAllowed ? 'block' : 'none';\n",
              "\n",
              "        async function convertToInteractive(key) {\n",
              "          const element = document.querySelector('#df-4febdcde-de96-4bcb-a333-89b8db5d75db');\n",
              "          const dataTable =\n",
              "            await google.colab.kernel.invokeFunction('convertToInteractive',\n",
              "                                                     [key], {});\n",
              "          if (!dataTable) return;\n",
              "\n",
              "          const docLinkHtml = 'Like what you see? Visit the ' +\n",
              "            '<a target=\"_blank\" href=https://colab.research.google.com/notebooks/data_table.ipynb>data table notebook</a>'\n",
              "            + ' to learn more about interactive tables.';\n",
              "          element.innerHTML = '';\n",
              "          dataTable['output_type'] = 'display_data';\n",
              "          await google.colab.output.renderOutput(dataTable, element);\n",
              "          const docLink = document.createElement('div');\n",
              "          docLink.innerHTML = docLinkHtml;\n",
              "          element.appendChild(docLink);\n",
              "        }\n",
              "      </script>\n",
              "    </div>\n",
              "  </div>\n",
              "  "
            ]
          },
          "metadata": {},
          "execution_count": 150
        }
      ]
    },
    {
      "cell_type": "code",
      "source": [
        "#r2 score comparison graph\n",
        "plt.style.use('ggplot') \n",
        "fig1 = plt.figure(figsize = (12, 8))\n",
        "sb.barplot(x = 'Algorithm', y = 'R2 Score', data = models_df)\n",
        "plt.title(\"Best Model Prediction Using R2 Score\") \n",
        "plt.show()"
      ],
      "metadata": {
        "colab": {
          "base_uri": "https://localhost:8080/",
          "height": 517
        },
        "id": "W-8bXkObNNuP",
        "outputId": "619470bf-869e-435f-8c40-2791290e9e2c"
      },
      "execution_count": null,
      "outputs": [
        {
          "output_type": "display_data",
          "data": {
            "text/plain": [
              "<Figure size 864x576 with 1 Axes>"
            ],
            "image/png": "[encoded data removed]"
          },
          "metadata": {}
        }
      ]
    },
    {
      "cell_type": "code",
      "source": [
        "fig1.savefig('/content/drive/MyDrive/ESOF 3675 Project - Mark Grandell & Jack Fiorot/r2graph.png')"
      ],
      "metadata": {
        "id": "0RTkALNoOJyQ"
      },
      "execution_count": null,
      "outputs": []
    },
    {
      "cell_type": "code",
      "source": [
        "#mse score comparison graph\n",
        "plt.style.use('ggplot') \n",
        "fig2 = plt.figure(figsize = (12, 8))\n",
        "sb.barplot(x = 'Algorithm', y = 'MSE Score', data = models_df)\n",
        "plt.title(\"Best Model Prediction Using MSE Score\") \n",
        "plt.show()"
      ],
      "metadata": {
        "colab": {
          "base_uri": "https://localhost:8080/",
          "height": 517
        },
        "id": "Psl-oA7jNfld",
        "outputId": "ac6e2a23-e71c-45d0-fb33-17fab13febb2"
      },
      "execution_count": null,
      "outputs": [
        {
          "output_type": "display_data",
          "data": {
            "text/plain": [
              "<Figure size 864x576 with 1 Axes>"
            ],
            "image/png": "[encoded data removed]"
          },
          "metadata": {}
        }
      ]
    },
    {
      "cell_type": "code",
      "source": [
        "fig2.savefig('/content/drive/MyDrive/ESOF 3675 Project - Mark Grandell & Jack Fiorot/msegraph.png')"
      ],
      "metadata": {
        "id": "Z5rWtPZlOkeh"
      },
      "execution_count": null,
      "outputs": []
    },
    {
      "cell_type": "code",
      "source": [
        "#mae score comparison graph\n",
        "plt.style.use('ggplot') \n",
        "fig3 = plt.figure(figsize = (12, 8))\n",
        "sb.barplot(x = 'Algorithm', y = 'MAE Score', data = models_df)\n",
        "plt.title(\"Best Model Prediction Using MAE Score\") \n",
        "plt.show()"
      ],
      "metadata": {
        "colab": {
          "base_uri": "https://localhost:8080/",
          "height": 517
        },
        "id": "8q3VyBzJNm_a",
        "outputId": "985e092e-067f-49f2-ea30-a91a222a67c1"
      },
      "execution_count": null,
      "outputs": [
        {
          "output_type": "display_data",
          "data": {
            "text/plain": [
              "<Figure size 864x576 with 1 Axes>"
            ],
            "image/png": "[encoded data removed]"
          },
          "metadata": {}
        }
      ]
    },
    {
      "cell_type": "code",
      "source": [
        "fig3.savefig('/content/drive/MyDrive/ESOF 3675 Project - Mark Grandell & Jack Fiorot/maegraph.png')"
      ],
      "metadata": {
        "id": "_ubCqwtnOspF"
      },
      "execution_count": null,
      "outputs": []
    },
    {
      "cell_type": "markdown",
      "source": [
        "# Final Submission Code"
      ],
      "metadata": {
        "id": "w2-54MsV-MNJ"
      }
    },
    {
      "cell_type": "code",
      "source": [
        "#split data by profile id\n",
        "x65 = df2[x2].loc[df2['profile_id'] == 65]\n",
        "x72 = df2[x2].loc[df2['profile_id'] == 72]\n",
        "\n",
        "st65 = df2['stator_tooth'].loc[df2['profile_id'] == 65]\n",
        "sy65 = df2['stator_yoke'].loc[df2['profile_id'] == 65]\n",
        "sw65 = df2['stator_winding'].loc[df2['profile_id'] == 65]\n",
        "pm65 = df2['pm'].loc[df2['profile_id'] == 65]\n",
        "st72 = df2['stator_tooth'].loc[df2['profile_id'] == 72]\n",
        "sy72 = df2['stator_yoke'].loc[df2['profile_id'] == 72]\n",
        "sw72 = df2['stator_winding'].loc[df2['profile_id'] == 72]\n",
        "pm72 = df2['pm'].loc[df2['profile_id'] == 72]\n",
        "\n",
        "#split dataset into train and test set\n",
        "x_train_st65, x_test_st65, y_train_st65, y_test_st65 = train_test_split(x65, st65, test_size = 0.3, random_state = 100)\n",
        "x_train_sy65, x_test_sy65, y_train_sy65, y_test_sy65 = train_test_split(x65, sy65, test_size = 0.3, random_state = 100)\n",
        "x_train_sw65, x_test_sw65, y_train_sw65, y_test_sw65 = train_test_split(x65, sw65, test_size = 0.3, random_state = 100)\n",
        "x_train_pm65, x_test_pm65, y_train_pm65, y_test_pm65 = train_test_split(x65, pm65, test_size = 0.3, random_state = 100)\n",
        "\n",
        "x_train_st72, x_test_st72, y_train_st72, y_test_st72 = train_test_split(x72, st72, test_size = 0.3, random_state = 100)\n",
        "x_train_sy72, x_test_sy72, y_train_sy72, y_test_sy72 = train_test_split(x72, sy72, test_size = 0.3, random_state = 100)\n",
        "x_train_sw72, x_test_sw72, y_train_sw72, y_test_sw72 = train_test_split(x72, sw72, test_size = 0.3, random_state = 100)\n",
        "x_train_pm72, x_test_pm72, y_train_pm72, y_test_pm72 = train_test_split(x72, pm72, test_size = 0.3, random_state = 100)"
      ],
      "metadata": {
        "id": "9ydCeA_lAxjT"
      },
      "execution_count": null,
      "outputs": []
    },
    {
      "cell_type": "markdown",
      "source": [
        "# KNN"
      ],
      "metadata": {
        "id": "5a2reZOpMERb"
      }
    },
    {
      "cell_type": "markdown",
      "source": [
        "# PID = 65"
      ],
      "metadata": {
        "id": "0_N87fsfM-0g"
      }
    },
    {
      "cell_type": "markdown",
      "source": [
        "stator tooth "
      ],
      "metadata": {
        "id": "Qi7SOeBpIqwj"
      }
    },
    {
      "cell_type": "code",
      "execution_count": null,
      "metadata": {
        "id": "lprPoAx8-vf1"
      },
      "outputs": [],
      "source": [
        "#make model\n",
        "knn_st65 = KNeighborsRegressor()"
      ]
    },
    {
      "cell_type": "code",
      "execution_count": null,
      "metadata": {
        "colab": {
          "base_uri": "https://localhost:8080/"
        },
        "outputId": "55d632c1-bfc5-4dc2-d35d-c38d9471d7ad",
        "id": "oshzygki-vf1"
      },
      "outputs": [
        {
          "output_type": "execute_result",
          "data": {
            "text/plain": [
              "KNeighborsRegressor()"
            ]
          },
          "metadata": {},
          "execution_count": 212
        }
      ],
      "source": [
        "#fit data to model\n",
        "knn_st65.fit(x_train_st65, y_train_st65)"
      ]
    },
    {
      "cell_type": "code",
      "execution_count": null,
      "metadata": {
        "id": "DUQ7mPEs-vf2"
      },
      "outputs": [],
      "source": [
        "#run prediction\n",
        "knn_st65_pred = knn_st65.predict(x_test_st65)"
      ]
    },
    {
      "cell_type": "code",
      "execution_count": null,
      "metadata": {
        "colab": {
          "base_uri": "https://localhost:8080/"
        },
        "id": "-O4kOnq9-vf2",
        "outputId": "a4e4655f-4a49-4e44-f264-9b04965720b6"
      },
      "outputs": [
        {
          "output_type": "execute_result",
          "data": {
            "text/plain": [
              "44.209348557757934"
            ]
          },
          "metadata": {},
          "execution_count": 214
        }
      ],
      "source": [
        "#mean squared error calculation\n",
        "mean_squared_error(y_test_st65, knn_st65_pred)"
      ]
    },
    {
      "cell_type": "code",
      "execution_count": null,
      "metadata": {
        "colab": {
          "base_uri": "https://localhost:8080/"
        },
        "id": "H4RkCl7C-vf2",
        "outputId": "e33c39ed-1c92-425c-8fe6-d62b930486c3"
      },
      "outputs": [
        {
          "output_type": "execute_result",
          "data": {
            "text/plain": [
              "0.8903161071692434"
            ]
          },
          "metadata": {},
          "execution_count": 215
        }
      ],
      "source": [
        "#r2 score calculation\n",
        "r2_score(y_test_st65, knn_st65_pred)"
      ]
    },
    {
      "cell_type": "code",
      "execution_count": null,
      "metadata": {
        "colab": {
          "base_uri": "https://localhost:8080/"
        },
        "id": "TUre002K-vf2",
        "outputId": "55f3df25-f139-400d-9737-7f9436ed7e24"
      },
      "outputs": [
        {
          "output_type": "execute_result",
          "data": {
            "text/plain": [
              "3.5590949856008445"
            ]
          },
          "metadata": {},
          "execution_count": 216
        }
      ],
      "source": [
        "#mean absolute error calculation\n",
        "mean_absolute_error(y_test_st65, knn_st65_pred)"
      ]
    },
    {
      "cell_type": "markdown",
      "source": [
        "stator yoke"
      ],
      "metadata": {
        "id": "f2Ne2YKBL4t-"
      }
    },
    {
      "cell_type": "code",
      "execution_count": null,
      "metadata": {
        "id": "Zw1mO8DhL3qL"
      },
      "outputs": [],
      "source": [
        "#make model\n",
        "knn_sy65 = KNeighborsRegressor()"
      ]
    },
    {
      "cell_type": "code",
      "execution_count": null,
      "metadata": {
        "colab": {
          "base_uri": "https://localhost:8080/"
        },
        "outputId": "e3c9f896-24ea-461d-fbe2-ce21e5bb935d",
        "id": "P7NpXZt6L3qL"
      },
      "outputs": [
        {
          "output_type": "execute_result",
          "data": {
            "text/plain": [
              "KNeighborsRegressor()"
            ]
          },
          "metadata": {},
          "execution_count": 218
        }
      ],
      "source": [
        "#fit data to model\n",
        "knn_sy65.fit(x_train_sy65, y_train_sy65)"
      ]
    },
    {
      "cell_type": "code",
      "execution_count": null,
      "metadata": {
        "id": "yNEYIfUCL3qL"
      },
      "outputs": [],
      "source": [
        "#run prediction\n",
        "knn_sy65_pred = knn_sy65.predict(x_test_sy65)"
      ]
    },
    {
      "cell_type": "code",
      "execution_count": null,
      "metadata": {
        "colab": {
          "base_uri": "https://localhost:8080/"
        },
        "outputId": "66f5f261-1ab1-4faf-e16d-af30a41f4941",
        "id": "6LoPPuItL3qL"
      },
      "outputs": [
        {
          "output_type": "execute_result",
          "data": {
            "text/plain": [
              "29.29210452024568"
            ]
          },
          "metadata": {},
          "execution_count": 220
        }
      ],
      "source": [
        "#mean squared error calculation\n",
        "mean_squared_error(y_test_sy65, knn_sy65_pred)"
      ]
    },
    {
      "cell_type": "code",
      "execution_count": null,
      "metadata": {
        "colab": {
          "base_uri": "https://localhost:8080/"
        },
        "outputId": "b7abc4bf-0697-4955-a914-499f6675cb74",
        "id": "d0hW93TVL3qL"
      },
      "outputs": [
        {
          "output_type": "execute_result",
          "data": {
            "text/plain": [
              "0.8954237042888116"
            ]
          },
          "metadata": {},
          "execution_count": 221
        }
      ],
      "source": [
        "#r2 score calculation\n",
        "r2_score(y_test_sy65, knn_sy65_pred)"
      ]
    },
    {
      "cell_type": "code",
      "execution_count": null,
      "metadata": {
        "colab": {
          "base_uri": "https://localhost:8080/"
        },
        "outputId": "f17c7fca-582e-464b-9adb-97c1c59486d2",
        "id": "Kk9XhPTuL3qM"
      },
      "outputs": [
        {
          "output_type": "execute_result",
          "data": {
            "text/plain": [
              "2.869523265031118"
            ]
          },
          "metadata": {},
          "execution_count": 222
        }
      ],
      "source": [
        "#mean absolute error calculation\n",
        "mean_absolute_error(y_test_sy65, knn_sy65_pred)"
      ]
    },
    {
      "cell_type": "markdown",
      "source": [
        "stator winding"
      ],
      "metadata": {
        "id": "62QyRyZ9MZ_Z"
      }
    },
    {
      "cell_type": "code",
      "execution_count": null,
      "metadata": {
        "id": "7f4lPhUSMYp4"
      },
      "outputs": [],
      "source": [
        "#make model\n",
        "knn_sw65 = KNeighborsRegressor()"
      ]
    },
    {
      "cell_type": "code",
      "execution_count": null,
      "metadata": {
        "colab": {
          "base_uri": "https://localhost:8080/"
        },
        "outputId": "094c6849-2d0a-4b90-f3d1-1944f6bbf9c9",
        "id": "Brb74Te3MYp9"
      },
      "outputs": [
        {
          "output_type": "execute_result",
          "data": {
            "text/plain": [
              "KNeighborsRegressor()"
            ]
          },
          "metadata": {},
          "execution_count": 224
        }
      ],
      "source": [
        "#fit data to model\n",
        "knn_sw65.fit(x_train_sw65, y_train_sw65)"
      ]
    },
    {
      "cell_type": "code",
      "execution_count": null,
      "metadata": {
        "id": "L9C4-PphMYp9"
      },
      "outputs": [],
      "source": [
        "#run prediction\n",
        "knn_sw65_pred = knn_sw65.predict(x_test_sw65)"
      ]
    },
    {
      "cell_type": "code",
      "execution_count": null,
      "metadata": {
        "colab": {
          "base_uri": "https://localhost:8080/"
        },
        "outputId": "150c2263-9866-4fa6-d0c7-f53de5aaa87b",
        "id": "VWSGIcSjMYp9"
      },
      "outputs": [
        {
          "output_type": "execute_result",
          "data": {
            "text/plain": [
              "67.78514899864129"
            ]
          },
          "metadata": {},
          "execution_count": 226
        }
      ],
      "source": [
        "#mean squared error calculation\n",
        "mean_squared_error(y_test_sw65, knn_sw65_pred)"
      ]
    },
    {
      "cell_type": "code",
      "execution_count": null,
      "metadata": {
        "colab": {
          "base_uri": "https://localhost:8080/"
        },
        "outputId": "cf068f2c-2cc5-4136-ef57-508fd25f8d7d",
        "id": "kApJpAAdMYp9"
      },
      "outputs": [
        {
          "output_type": "execute_result",
          "data": {
            "text/plain": [
              "0.8901696230973886"
            ]
          },
          "metadata": {},
          "execution_count": 227
        }
      ],
      "source": [
        "#r2 score calculation\n",
        "r2_score(y_test_sw65, knn_sw65_pred)"
      ]
    },
    {
      "cell_type": "code",
      "execution_count": null,
      "metadata": {
        "colab": {
          "base_uri": "https://localhost:8080/"
        },
        "outputId": "06477a18-eff4-4666-d7e5-b7bf25bf67c6",
        "id": "gXBRDxGGMYp9"
      },
      "outputs": [
        {
          "output_type": "execute_result",
          "data": {
            "text/plain": [
              "4.433735781980795"
            ]
          },
          "metadata": {},
          "execution_count": 228
        }
      ],
      "source": [
        "#mean absolute error calculation\n",
        "mean_absolute_error(y_test_sw65, knn_sw65_pred)"
      ]
    },
    {
      "cell_type": "markdown",
      "source": [
        "pm"
      ],
      "metadata": {
        "id": "4p_nGcjRMpM7"
      }
    },
    {
      "cell_type": "code",
      "execution_count": null,
      "metadata": {
        "id": "zQr_MffcMpM7"
      },
      "outputs": [],
      "source": [
        "#make model\n",
        "knn_pm65 = KNeighborsRegressor()"
      ]
    },
    {
      "cell_type": "code",
      "execution_count": null,
      "metadata": {
        "colab": {
          "base_uri": "https://localhost:8080/"
        },
        "outputId": "9015e77e-6e90-4dbe-cb9b-cddac536bbc6",
        "id": "5iH-MOL4MpM7"
      },
      "outputs": [
        {
          "output_type": "execute_result",
          "data": {
            "text/plain": [
              "KNeighborsRegressor()"
            ]
          },
          "metadata": {},
          "execution_count": 230
        }
      ],
      "source": [
        "#fit data to model\n",
        "knn_pm65.fit(x_train_pm65, y_train_pm65)"
      ]
    },
    {
      "cell_type": "code",
      "execution_count": null,
      "metadata": {
        "id": "cDDq54U6MpM8"
      },
      "outputs": [],
      "source": [
        "#run prediction\n",
        "knn_pm65_pred = knn_pm65.predict(x_test_pm65)"
      ]
    },
    {
      "cell_type": "code",
      "execution_count": null,
      "metadata": {
        "colab": {
          "base_uri": "https://localhost:8080/"
        },
        "outputId": "7b0a8e93-643f-4499-9259-7507191b21af",
        "id": "B1QuGXJLMpM8"
      },
      "outputs": [
        {
          "output_type": "execute_result",
          "data": {
            "text/plain": [
              "47.322324966740084"
            ]
          },
          "metadata": {},
          "execution_count": 232
        }
      ],
      "source": [
        "#mean squared error calculation\n",
        "mean_squared_error(y_test_pm65, knn_pm65_pred)"
      ]
    },
    {
      "cell_type": "code",
      "execution_count": null,
      "metadata": {
        "colab": {
          "base_uri": "https://localhost:8080/"
        },
        "outputId": "e10cbfff-e994-4958-f0b4-56b745b63548",
        "id": "zjT6rl7qMpM8"
      },
      "outputs": [
        {
          "output_type": "execute_result",
          "data": {
            "text/plain": [
              "0.7688591898287699"
            ]
          },
          "metadata": {},
          "execution_count": 233
        }
      ],
      "source": [
        "#r2 score calculation\n",
        "r2_score(y_test_pm65, knn_pm65_pred)"
      ]
    },
    {
      "cell_type": "code",
      "execution_count": null,
      "metadata": {
        "colab": {
          "base_uri": "https://localhost:8080/"
        },
        "outputId": "3e027f4d-7d08-4b0b-833b-2bcd20175983",
        "id": "3vxkZB1JMpM8"
      },
      "outputs": [
        {
          "output_type": "execute_result",
          "data": {
            "text/plain": [
              "3.867430033870014"
            ]
          },
          "metadata": {},
          "execution_count": 234
        }
      ],
      "source": [
        "#mean absolute error calculation\n",
        "mean_absolute_error(y_test_pm65, knn_pm65_pred)"
      ]
    },
    {
      "cell_type": "markdown",
      "source": [
        "# PID = 72"
      ],
      "metadata": {
        "id": "CTudvQaWNHz-"
      }
    },
    {
      "cell_type": "markdown",
      "source": [
        "stator tooth "
      ],
      "metadata": {
        "id": "y5SEgSD4NHz_"
      }
    },
    {
      "cell_type": "code",
      "execution_count": null,
      "metadata": {
        "id": "2AF9nxMENHz_"
      },
      "outputs": [],
      "source": [
        "#make model\n",
        "knn_st72 = KNeighborsRegressor()"
      ]
    },
    {
      "cell_type": "code",
      "execution_count": null,
      "metadata": {
        "colab": {
          "base_uri": "https://localhost:8080/"
        },
        "outputId": "233f99a9-7d3a-49e5-f6a0-502f2f8b844d",
        "id": "gbUcp5SfNHz_"
      },
      "outputs": [
        {
          "output_type": "execute_result",
          "data": {
            "text/plain": [
              "KNeighborsRegressor()"
            ]
          },
          "metadata": {},
          "execution_count": 236
        }
      ],
      "source": [
        "#fit data to model\n",
        "knn_st72.fit(x_train_st72, y_train_st72)"
      ]
    },
    {
      "cell_type": "code",
      "execution_count": null,
      "metadata": {
        "id": "rkmfE1BaNHz_"
      },
      "outputs": [],
      "source": [
        "#run prediction\n",
        "knn_st72_pred = knn_st72.predict(x_test_st72)"
      ]
    },
    {
      "cell_type": "code",
      "execution_count": null,
      "metadata": {
        "colab": {
          "base_uri": "https://localhost:8080/"
        },
        "outputId": "29418d9d-3668-4f48-f135-3d3a545d62c6",
        "id": "sQGHDO-_NHz_"
      },
      "outputs": [
        {
          "output_type": "execute_result",
          "data": {
            "text/plain": [
              "60.58554576695133"
            ]
          },
          "metadata": {},
          "execution_count": 238
        }
      ],
      "source": [
        "#mean squared error calculation\n",
        "mean_squared_error(y_test_st72, knn_st72_pred)"
      ]
    },
    {
      "cell_type": "code",
      "execution_count": null,
      "metadata": {
        "colab": {
          "base_uri": "https://localhost:8080/"
        },
        "outputId": "1d9a741d-4d5b-4e5a-fdc0-689a901bc757",
        "id": "JlEzfcFLNHz_"
      },
      "outputs": [
        {
          "output_type": "execute_result",
          "data": {
            "text/plain": [
              "0.855954789287401"
            ]
          },
          "metadata": {},
          "execution_count": 239
        }
      ],
      "source": [
        "#r2 score calculation\n",
        "r2_score(y_test_st72, knn_st72_pred)"
      ]
    },
    {
      "cell_type": "code",
      "execution_count": null,
      "metadata": {
        "colab": {
          "base_uri": "https://localhost:8080/"
        },
        "outputId": "277420e7-e8ec-4f2f-d113-c638fb80a70b",
        "id": "ZUe-OR9sNHz_"
      },
      "outputs": [
        {
          "output_type": "execute_result",
          "data": {
            "text/plain": [
              "4.0292348006926675"
            ]
          },
          "metadata": {},
          "execution_count": 240
        }
      ],
      "source": [
        "#mean absolute error calculation\n",
        "mean_absolute_error(y_test_st72, knn_st72_pred)"
      ]
    },
    {
      "cell_type": "markdown",
      "source": [
        "stator yoke"
      ],
      "metadata": {
        "id": "qFS4LILzNH0A"
      }
    },
    {
      "cell_type": "code",
      "execution_count": null,
      "metadata": {
        "id": "15DfVQEbNH0A"
      },
      "outputs": [],
      "source": [
        "#make model\n",
        "knn_sy72 = KNeighborsRegressor()"
      ]
    },
    {
      "cell_type": "code",
      "execution_count": null,
      "metadata": {
        "colab": {
          "base_uri": "https://localhost:8080/"
        },
        "outputId": "7bcdb0e2-fd81-4133-acea-4f732c72c05c",
        "id": "Mz0s3tdANH0A"
      },
      "outputs": [
        {
          "output_type": "execute_result",
          "data": {
            "text/plain": [
              "KNeighborsRegressor()"
            ]
          },
          "metadata": {},
          "execution_count": 242
        }
      ],
      "source": [
        "#fit data to model\n",
        "knn_sy72.fit(x_train_sy72, y_train_sy72)"
      ]
    },
    {
      "cell_type": "code",
      "execution_count": null,
      "metadata": {
        "id": "ag3h1rdtNH0A"
      },
      "outputs": [],
      "source": [
        "#run prediction\n",
        "knn_sy72_pred = knn_sy72.predict(x_test_sy72)"
      ]
    },
    {
      "cell_type": "code",
      "execution_count": null,
      "metadata": {
        "colab": {
          "base_uri": "https://localhost:8080/"
        },
        "outputId": "a1ee5080-22d7-4f9b-b756-29a4be4e99f3",
        "id": "et5KvozNNH0A"
      },
      "outputs": [
        {
          "output_type": "execute_result",
          "data": {
            "text/plain": [
              "43.1108975326591"
            ]
          },
          "metadata": {},
          "execution_count": 244
        }
      ],
      "source": [
        "#mean squared error calculation\n",
        "mean_squared_error(y_test_sy72, knn_sy72_pred)"
      ]
    },
    {
      "cell_type": "code",
      "execution_count": null,
      "metadata": {
        "colab": {
          "base_uri": "https://localhost:8080/"
        },
        "outputId": "d2027556-f754-4709-cb26-40c8536c5569",
        "id": "C4o0yqiiNH0A"
      },
      "outputs": [
        {
          "output_type": "execute_result",
          "data": {
            "text/plain": [
              "0.8982223505775718"
            ]
          },
          "metadata": {},
          "execution_count": 245
        }
      ],
      "source": [
        "#r2 score calculation\n",
        "r2_score(y_test_sy72, knn_sy72_pred)"
      ]
    },
    {
      "cell_type": "code",
      "execution_count": null,
      "metadata": {
        "colab": {
          "base_uri": "https://localhost:8080/"
        },
        "outputId": "f1ae7219-8be9-4363-9025-13e34ef680b4",
        "id": "_cBbSLWvNH0A"
      },
      "outputs": [
        {
          "output_type": "execute_result",
          "data": {
            "text/plain": [
              "3.2266806663019554"
            ]
          },
          "metadata": {},
          "execution_count": 246
        }
      ],
      "source": [
        "#mean absolute error calculation\n",
        "mean_absolute_error(y_test_sy72, knn_sy72_pred)"
      ]
    },
    {
      "cell_type": "markdown",
      "source": [
        "stator winding"
      ],
      "metadata": {
        "id": "qR4zihmvNH0A"
      }
    },
    {
      "cell_type": "code",
      "execution_count": null,
      "metadata": {
        "id": "UxWCjAEINH0A"
      },
      "outputs": [],
      "source": [
        "#make model\n",
        "knn_sw72 = KNeighborsRegressor()"
      ]
    },
    {
      "cell_type": "code",
      "execution_count": null,
      "metadata": {
        "colab": {
          "base_uri": "https://localhost:8080/"
        },
        "outputId": "2eec3cc5-ca25-4d48-ba8e-958f4ce76d29",
        "id": "rwJrk0QFNH0A"
      },
      "outputs": [
        {
          "output_type": "execute_result",
          "data": {
            "text/plain": [
              "KNeighborsRegressor()"
            ]
          },
          "metadata": {},
          "execution_count": 248
        }
      ],
      "source": [
        "#fit data to model\n",
        "knn_sw72.fit(x_train_sw72, y_train_sw72)"
      ]
    },
    {
      "cell_type": "code",
      "execution_count": null,
      "metadata": {
        "id": "Iuk5r-KENH0A"
      },
      "outputs": [],
      "source": [
        "#run prediction\n",
        "knn_sw72_pred = knn_sw72.predict(x_test_sw72)"
      ]
    },
    {
      "cell_type": "code",
      "execution_count": null,
      "metadata": {
        "colab": {
          "base_uri": "https://localhost:8080/"
        },
        "outputId": "7a7f6243-465b-4d49-f58a-e98b07f8c03c",
        "id": "tv6N0XltNH0B"
      },
      "outputs": [
        {
          "output_type": "execute_result",
          "data": {
            "text/plain": [
              "88.12345375988485"
            ]
          },
          "metadata": {},
          "execution_count": 250
        }
      ],
      "source": [
        "#mean squared error calculation\n",
        "mean_squared_error(y_test_sw72, knn_sw72_pred)"
      ]
    },
    {
      "cell_type": "code",
      "execution_count": null,
      "metadata": {
        "colab": {
          "base_uri": "https://localhost:8080/"
        },
        "outputId": "c9754ab1-d986-4d57-cec1-2dcd745cf8ad",
        "id": "oFWRwRndNH0B"
      },
      "outputs": [
        {
          "output_type": "execute_result",
          "data": {
            "text/plain": [
              "0.8208336001754619"
            ]
          },
          "metadata": {},
          "execution_count": 251
        }
      ],
      "source": [
        "#r2 score calculation\n",
        "r2_score(y_test_sw72, knn_sw72_pred)"
      ]
    },
    {
      "cell_type": "code",
      "execution_count": null,
      "metadata": {
        "colab": {
          "base_uri": "https://localhost:8080/"
        },
        "outputId": "327fe06a-3289-4b46-f719-4bc9db28c9d1",
        "id": "p5Isp-BDNH0B"
      },
      "outputs": [
        {
          "output_type": "execute_result",
          "data": {
            "text/plain": [
              "5.037428612923383"
            ]
          },
          "metadata": {},
          "execution_count": 252
        }
      ],
      "source": [
        "#mean absolute error calculation\n",
        "mean_absolute_error(y_test_sw72, knn_sw72_pred)"
      ]
    },
    {
      "cell_type": "markdown",
      "source": [
        "pm"
      ],
      "metadata": {
        "id": "j_U0v6WpNH0B"
      }
    },
    {
      "cell_type": "code",
      "execution_count": null,
      "metadata": {
        "id": "O-zQN1csNH0B"
      },
      "outputs": [],
      "source": [
        "#make model\n",
        "knn_pm72 = KNeighborsRegressor()"
      ]
    },
    {
      "cell_type": "code",
      "execution_count": null,
      "metadata": {
        "colab": {
          "base_uri": "https://localhost:8080/"
        },
        "outputId": "c75b3961-7a37-4ac5-c3cf-1b46e66cea84",
        "id": "9jf4gStDNH0B"
      },
      "outputs": [
        {
          "output_type": "execute_result",
          "data": {
            "text/plain": [
              "KNeighborsRegressor()"
            ]
          },
          "metadata": {},
          "execution_count": 254
        }
      ],
      "source": [
        "#fit data to model\n",
        "knn_pm72.fit(x_train_pm72, y_train_pm72)"
      ]
    },
    {
      "cell_type": "code",
      "execution_count": null,
      "metadata": {
        "id": "xWFKRdIWNH0B"
      },
      "outputs": [],
      "source": [
        "#run prediction\n",
        "knn_pm72_pred = knn_pm72.predict(x_test_pm72)"
      ]
    },
    {
      "cell_type": "code",
      "execution_count": null,
      "metadata": {
        "colab": {
          "base_uri": "https://localhost:8080/"
        },
        "outputId": "f7668e61-d1bc-4d05-b2a5-7e4910e12e60",
        "id": "CDu7IUKDNH0B"
      },
      "outputs": [
        {
          "output_type": "execute_result",
          "data": {
            "text/plain": [
              "31.630156347036863"
            ]
          },
          "metadata": {},
          "execution_count": 256
        }
      ],
      "source": [
        "#mean squared error calculation\n",
        "mean_squared_error(y_test_pm72, knn_pm72_pred)"
      ]
    },
    {
      "cell_type": "code",
      "execution_count": null,
      "metadata": {
        "colab": {
          "base_uri": "https://localhost:8080/"
        },
        "outputId": "a48f7b4a-efc9-42e4-d8e8-fe46a7a50bfb",
        "id": "W51zrBLYNH0B"
      },
      "outputs": [
        {
          "output_type": "execute_result",
          "data": {
            "text/plain": [
              "0.621822763089402"
            ]
          },
          "metadata": {},
          "execution_count": 257
        }
      ],
      "source": [
        "#r2 score calculation\n",
        "r2_score(y_test_pm72, knn_pm72_pred)"
      ]
    },
    {
      "cell_type": "code",
      "execution_count": null,
      "metadata": {
        "colab": {
          "base_uri": "https://localhost:8080/"
        },
        "outputId": "f9a89030-eb34-454a-dfae-e2732f49c61e",
        "id": "Z5U5KbJbNH0B"
      },
      "outputs": [
        {
          "output_type": "execute_result",
          "data": {
            "text/plain": [
              "2.9063100843352"
            ]
          },
          "metadata": {},
          "execution_count": 258
        }
      ],
      "source": [
        "#mean absolute error calculation\n",
        "mean_absolute_error(y_test_pm72, knn_pm72_pred)"
      ]
    },
    {
      "cell_type": "markdown",
      "source": [
        "# linreg"
      ],
      "metadata": {
        "id": "QU_YDGt0N8wV"
      }
    },
    {
      "cell_type": "markdown",
      "source": [
        "# PID = 65"
      ],
      "metadata": {
        "id": "5032EkZVN8wV"
      }
    },
    {
      "cell_type": "markdown",
      "source": [
        "stator tooth "
      ],
      "metadata": {
        "id": "pBVsL-fPN8wV"
      }
    },
    {
      "cell_type": "code",
      "execution_count": null,
      "metadata": {
        "id": "q7ilmTzkN8wV"
      },
      "outputs": [],
      "source": [
        "#make model\n",
        "lr_st65 = LinearRegression()"
      ]
    },
    {
      "cell_type": "code",
      "execution_count": null,
      "metadata": {
        "colab": {
          "base_uri": "https://localhost:8080/"
        },
        "outputId": "29502d4f-4ecc-4d79-dcee-0ee85508bd2e",
        "id": "xZCC6vzVN8wV"
      },
      "outputs": [
        {
          "output_type": "execute_result",
          "data": {
            "text/plain": [
              "LinearRegression()"
            ]
          },
          "metadata": {},
          "execution_count": 260
        }
      ],
      "source": [
        "#fit data to model\n",
        "lr_st65.fit(x_train_st65, y_train_st65)"
      ]
    },
    {
      "cell_type": "code",
      "execution_count": null,
      "metadata": {
        "id": "TfqL_VUiN8wV"
      },
      "outputs": [],
      "source": [
        "#run prediction\n",
        "lr_st65_pred = lr_st65.predict(x_test_st65)"
      ]
    },
    {
      "cell_type": "code",
      "execution_count": null,
      "metadata": {
        "colab": {
          "base_uri": "https://localhost:8080/"
        },
        "outputId": "8ed89a8b-a872-4db9-ba7b-41d35f09040a",
        "id": "waubkl2wN8wW"
      },
      "outputs": [
        {
          "output_type": "execute_result",
          "data": {
            "text/plain": [
              "69.29923143980993"
            ]
          },
          "metadata": {},
          "execution_count": 262
        }
      ],
      "source": [
        "#mean squared error calculation\n",
        "mean_squared_error(y_test_st65, lr_st65_pred)"
      ]
    },
    {
      "cell_type": "code",
      "execution_count": null,
      "metadata": {
        "colab": {
          "base_uri": "https://localhost:8080/"
        },
        "outputId": "09c08f85-64bb-4be0-84da-f305933731cb",
        "id": "2dKC8RB8N8wW"
      },
      "outputs": [
        {
          "output_type": "execute_result",
          "data": {
            "text/plain": [
              "0.8280678245107487"
            ]
          },
          "metadata": {},
          "execution_count": 263
        }
      ],
      "source": [
        "#r2 score calculation\n",
        "r2_score(y_test_st65, lr_st65_pred)"
      ]
    },
    {
      "cell_type": "code",
      "execution_count": null,
      "metadata": {
        "colab": {
          "base_uri": "https://localhost:8080/"
        },
        "outputId": "e4d0fb9e-4cba-4c9a-8890-6ecab82996f1",
        "id": "o92i1LltN8wW"
      },
      "outputs": [
        {
          "output_type": "execute_result",
          "data": {
            "text/plain": [
              "6.40331672171581"
            ]
          },
          "metadata": {},
          "execution_count": 264
        }
      ],
      "source": [
        "#mean absolute error calculation\n",
        "mean_absolute_error(y_test_st65, lr_st65_pred)"
      ]
    },
    {
      "cell_type": "markdown",
      "source": [
        "stator yoke"
      ],
      "metadata": {
        "id": "gP28XYjWN8wW"
      }
    },
    {
      "cell_type": "code",
      "execution_count": null,
      "metadata": {
        "id": "PoQYoeq7N8wW"
      },
      "outputs": [],
      "source": [
        "#make model\n",
        "lr_sy65 = LinearRegression()"
      ]
    },
    {
      "cell_type": "code",
      "execution_count": null,
      "metadata": {
        "colab": {
          "base_uri": "https://localhost:8080/"
        },
        "outputId": "9f8c32b7-2470-4c5b-a0ca-afe492ae2d34",
        "id": "rbaC5PKCN8wW"
      },
      "outputs": [
        {
          "output_type": "execute_result",
          "data": {
            "text/plain": [
              "LinearRegression()"
            ]
          },
          "metadata": {},
          "execution_count": 266
        }
      ],
      "source": [
        "#fit data to model\n",
        "lr_sy65.fit(x_train_sy65, y_train_sy65)"
      ]
    },
    {
      "cell_type": "code",
      "execution_count": null,
      "metadata": {
        "id": "CmR4J9UtN8wW"
      },
      "outputs": [],
      "source": [
        "#run prediction\n",
        "lr_sy65_pred = lr_sy65.predict(x_test_sy65)"
      ]
    },
    {
      "cell_type": "code",
      "execution_count": null,
      "metadata": {
        "colab": {
          "base_uri": "https://localhost:8080/"
        },
        "outputId": "bd8fabc3-6de3-4f3d-ffec-41c00c1a90f5",
        "id": "hYJTp-FsN8wW"
      },
      "outputs": [
        {
          "output_type": "execute_result",
          "data": {
            "text/plain": [
              "29.470521545097213"
            ]
          },
          "metadata": {},
          "execution_count": 268
        }
      ],
      "source": [
        "#mean squared error calculation\n",
        "mean_squared_error(y_test_sy65, lr_sy65_pred)"
      ]
    },
    {
      "cell_type": "code",
      "execution_count": null,
      "metadata": {
        "colab": {
          "base_uri": "https://localhost:8080/"
        },
        "outputId": "49f6adab-7a92-4407-d2ce-640874e7fad2",
        "id": "Nk2wPVldN8wW"
      },
      "outputs": [
        {
          "output_type": "execute_result",
          "data": {
            "text/plain": [
              "0.8947867342978746"
            ]
          },
          "metadata": {},
          "execution_count": 269
        }
      ],
      "source": [
        "#r2 score calculation\n",
        "r2_score(y_test_sy65, lr_sy65_pred)"
      ]
    },
    {
      "cell_type": "code",
      "execution_count": null,
      "metadata": {
        "colab": {
          "base_uri": "https://localhost:8080/"
        },
        "outputId": "5316b138-f859-4e34-fbe0-5b05632f4c97",
        "id": "MetvbsQaN8wW"
      },
      "outputs": [
        {
          "output_type": "execute_result",
          "data": {
            "text/plain": [
              "4.1295430331445155"
            ]
          },
          "metadata": {},
          "execution_count": 270
        }
      ],
      "source": [
        "#mean absolute error calculation\n",
        "mean_absolute_error(y_test_sy65, lr_sy65_pred)"
      ]
    },
    {
      "cell_type": "markdown",
      "source": [
        "stator winding"
      ],
      "metadata": {
        "id": "H78sfOIaN8wW"
      }
    },
    {
      "cell_type": "code",
      "execution_count": null,
      "metadata": {
        "id": "fbwGLQEdN8wW"
      },
      "outputs": [],
      "source": [
        "#make model\n",
        "lr_sw65 = LinearRegression()"
      ]
    },
    {
      "cell_type": "code",
      "execution_count": null,
      "metadata": {
        "colab": {
          "base_uri": "https://localhost:8080/"
        },
        "outputId": "a745865a-4fd0-4789-faec-2d5fdf9e96a7",
        "id": "hDWjibeHN8wX"
      },
      "outputs": [
        {
          "output_type": "execute_result",
          "data": {
            "text/plain": [
              "LinearRegression()"
            ]
          },
          "metadata": {},
          "execution_count": 272
        }
      ],
      "source": [
        "#fit data to model\n",
        "lr_sw65.fit(x_train_sw65, y_train_sw65)"
      ]
    },
    {
      "cell_type": "code",
      "execution_count": null,
      "metadata": {
        "id": "HB28A24EN8wX"
      },
      "outputs": [],
      "source": [
        "#run prediction\n",
        "lr_sw65_pred = lr_sw65.predict(x_test_sw65)"
      ]
    },
    {
      "cell_type": "code",
      "execution_count": null,
      "metadata": {
        "colab": {
          "base_uri": "https://localhost:8080/"
        },
        "outputId": "7c6093b0-2d47-4170-83f3-d77e7ed6d157",
        "id": "G4aAkOB-N8wX"
      },
      "outputs": [
        {
          "output_type": "execute_result",
          "data": {
            "text/plain": [
              "125.84155476710627"
            ]
          },
          "metadata": {},
          "execution_count": 274
        }
      ],
      "source": [
        "#mean squared error calculation\n",
        "mean_squared_error(y_test_sw65, lr_sw65_pred)"
      ]
    },
    {
      "cell_type": "code",
      "execution_count": null,
      "metadata": {
        "colab": {
          "base_uri": "https://localhost:8080/"
        },
        "outputId": "d1f72763-611e-4355-f549-0a79c6186e39",
        "id": "rVc9bI_SN8wX"
      },
      "outputs": [
        {
          "output_type": "execute_result",
          "data": {
            "text/plain": [
              "0.7961024561536489"
            ]
          },
          "metadata": {},
          "execution_count": 275
        }
      ],
      "source": [
        "#r2 score calculation\n",
        "r2_score(y_test_sw65, lr_sw65_pred)"
      ]
    },
    {
      "cell_type": "code",
      "execution_count": null,
      "metadata": {
        "colab": {
          "base_uri": "https://localhost:8080/"
        },
        "outputId": "0d9ccf7f-997f-41ed-969b-4a3abe5224d2",
        "id": "FCX77PB1N8wX"
      },
      "outputs": [
        {
          "output_type": "execute_result",
          "data": {
            "text/plain": [
              "8.634380313189427"
            ]
          },
          "metadata": {},
          "execution_count": 276
        }
      ],
      "source": [
        "#mean absolute error calculation\n",
        "mean_absolute_error(y_test_sw65, lr_sw65_pred)"
      ]
    },
    {
      "cell_type": "markdown",
      "source": [
        "pm"
      ],
      "metadata": {
        "id": "mDWLdGNvN8wX"
      }
    },
    {
      "cell_type": "code",
      "execution_count": null,
      "metadata": {
        "id": "GhAbVxwlN8wX"
      },
      "outputs": [],
      "source": [
        "#make model\n",
        "lr_pm65 = LinearRegression()"
      ]
    },
    {
      "cell_type": "code",
      "execution_count": null,
      "metadata": {
        "colab": {
          "base_uri": "https://localhost:8080/"
        },
        "outputId": "012ae9b7-ddf9-45b6-d401-0388296d6695",
        "id": "wf__AyD_N8wX"
      },
      "outputs": [
        {
          "output_type": "execute_result",
          "data": {
            "text/plain": [
              "LinearRegression()"
            ]
          },
          "metadata": {},
          "execution_count": 278
        }
      ],
      "source": [
        "#fit data to model\n",
        "lr_pm65.fit(x_train_pm65, y_train_pm65)"
      ]
    },
    {
      "cell_type": "code",
      "execution_count": null,
      "metadata": {
        "id": "YW5edPo2N8wX"
      },
      "outputs": [],
      "source": [
        "#run prediction\n",
        "lr_pm65_pred = lr_pm65.predict(x_test_pm65)"
      ]
    },
    {
      "cell_type": "code",
      "execution_count": null,
      "metadata": {
        "colab": {
          "base_uri": "https://localhost:8080/"
        },
        "outputId": "14af6192-506c-4c36-a56c-a5046cf83e29",
        "id": "TIgZnH7EN8wX"
      },
      "outputs": [
        {
          "output_type": "execute_result",
          "data": {
            "text/plain": [
              "77.74636982684623"
            ]
          },
          "metadata": {},
          "execution_count": 280
        }
      ],
      "source": [
        "#mean squared error calculation\n",
        "mean_squared_error(y_test_pm65, lr_pm65_pred)"
      ]
    },
    {
      "cell_type": "code",
      "execution_count": null,
      "metadata": {
        "colab": {
          "base_uri": "https://localhost:8080/"
        },
        "outputId": "c28e2f9a-de8c-4899-bb47-61d42f71223c",
        "id": "bTIQoQYJN8wX"
      },
      "outputs": [
        {
          "output_type": "execute_result",
          "data": {
            "text/plain": [
              "0.6202562126379132"
            ]
          },
          "metadata": {},
          "execution_count": 281
        }
      ],
      "source": [
        "#r2 score calculation\n",
        "r2_score(y_test_pm65, lr_pm65_pred)"
      ]
    },
    {
      "cell_type": "code",
      "execution_count": null,
      "metadata": {
        "colab": {
          "base_uri": "https://localhost:8080/"
        },
        "outputId": "9a48d61f-ebdb-437e-eb58-a60bc705d027",
        "id": "rWpv8NBcN8wX"
      },
      "outputs": [
        {
          "output_type": "execute_result",
          "data": {
            "text/plain": [
              "7.303289363957489"
            ]
          },
          "metadata": {},
          "execution_count": 282
        }
      ],
      "source": [
        "#mean absolute error calculation\n",
        "mean_absolute_error(y_test_pm65, lr_pm65_pred)"
      ]
    },
    {
      "cell_type": "markdown",
      "source": [
        "# PID = 72"
      ],
      "metadata": {
        "id": "293TEk29N8wY"
      }
    },
    {
      "cell_type": "markdown",
      "source": [
        "stator tooth "
      ],
      "metadata": {
        "id": "Cxi0YKt0N8wY"
      }
    },
    {
      "cell_type": "code",
      "execution_count": null,
      "metadata": {
        "id": "9A78yBDJN8wY"
      },
      "outputs": [],
      "source": [
        "#make model\n",
        "lr_st72 = LinearRegression()"
      ]
    },
    {
      "cell_type": "code",
      "execution_count": null,
      "metadata": {
        "colab": {
          "base_uri": "https://localhost:8080/"
        },
        "outputId": "0d97801f-80b3-445d-996c-844f5a4e3abc",
        "id": "7ydJh43GN8wY"
      },
      "outputs": [
        {
          "output_type": "execute_result",
          "data": {
            "text/plain": [
              "LinearRegression()"
            ]
          },
          "metadata": {},
          "execution_count": 284
        }
      ],
      "source": [
        "#fit data to model\n",
        "lr_st72.fit(x_train_st72, y_train_st72)"
      ]
    },
    {
      "cell_type": "code",
      "execution_count": null,
      "metadata": {
        "id": "I6VXEy9PN8wY"
      },
      "outputs": [],
      "source": [
        "#run prediction\n",
        "lr_st72_pred = lr_st72.predict(x_test_st72)"
      ]
    },
    {
      "cell_type": "code",
      "execution_count": null,
      "metadata": {
        "colab": {
          "base_uri": "https://localhost:8080/"
        },
        "outputId": "82c7a0bc-9834-454b-bd3f-b06671a37f5b",
        "id": "gkgQOWxkN8wY"
      },
      "outputs": [
        {
          "output_type": "execute_result",
          "data": {
            "text/plain": [
              "96.24108235485863"
            ]
          },
          "metadata": {},
          "execution_count": 286
        }
      ],
      "source": [
        "#mean squared error calculation\n",
        "mean_squared_error(y_test_st72, lr_st72_pred)"
      ]
    },
    {
      "cell_type": "code",
      "execution_count": null,
      "metadata": {
        "colab": {
          "base_uri": "https://localhost:8080/"
        },
        "outputId": "a9db1fed-4383-476e-bab5-1f7029d4133f",
        "id": "5epHz3fBN8wY"
      },
      "outputs": [
        {
          "output_type": "execute_result",
          "data": {
            "text/plain": [
              "0.7711819409807754"
            ]
          },
          "metadata": {},
          "execution_count": 287
        }
      ],
      "source": [
        "#r2 score calculation\n",
        "r2_score(y_test_st72, lr_st72_pred)"
      ]
    },
    {
      "cell_type": "code",
      "execution_count": null,
      "metadata": {
        "colab": {
          "base_uri": "https://localhost:8080/"
        },
        "outputId": "cdacad1a-302f-4e19-c3ac-ae3b3bb4c478",
        "id": "2f4VWDl3N8wY"
      },
      "outputs": [
        {
          "output_type": "execute_result",
          "data": {
            "text/plain": [
              "7.13300236832572"
            ]
          },
          "metadata": {},
          "execution_count": 288
        }
      ],
      "source": [
        "#mean absolute error calculation\n",
        "mean_absolute_error(y_test_st72, lr_st72_pred)"
      ]
    },
    {
      "cell_type": "markdown",
      "source": [
        "stator yoke"
      ],
      "metadata": {
        "id": "gow_cfE6N8wY"
      }
    },
    {
      "cell_type": "code",
      "execution_count": null,
      "metadata": {
        "id": "S8cCrUrON8wY"
      },
      "outputs": [],
      "source": [
        "#make model\n",
        "lr_sy72 = LinearRegression()"
      ]
    },
    {
      "cell_type": "code",
      "execution_count": null,
      "metadata": {
        "colab": {
          "base_uri": "https://localhost:8080/"
        },
        "outputId": "5e3a3fd5-ed07-411e-dde0-33839e55a013",
        "id": "JLMV1vS_N8wY"
      },
      "outputs": [
        {
          "output_type": "execute_result",
          "data": {
            "text/plain": [
              "LinearRegression()"
            ]
          },
          "metadata": {},
          "execution_count": 290
        }
      ],
      "source": [
        "#fit data to model\n",
        "lr_sy72.fit(x_train_sy72, y_train_sy72)"
      ]
    },
    {
      "cell_type": "code",
      "execution_count": null,
      "metadata": {
        "id": "TD2iEMmdN8wZ"
      },
      "outputs": [],
      "source": [
        "#run prediction\n",
        "lr_sy72_pred = lr_sy72.predict(x_test_sy72)"
      ]
    },
    {
      "cell_type": "code",
      "execution_count": null,
      "metadata": {
        "colab": {
          "base_uri": "https://localhost:8080/"
        },
        "outputId": "a26ba87e-fab2-4f52-a0b4-7ac8cabe558a",
        "id": "ScSWTyv1N8wZ"
      },
      "outputs": [
        {
          "output_type": "execute_result",
          "data": {
            "text/plain": [
              "48.76774308565126"
            ]
          },
          "metadata": {},
          "execution_count": 292
        }
      ],
      "source": [
        "#mean squared error calculation\n",
        "mean_squared_error(y_test_sy72, lr_sy72_pred)"
      ]
    },
    {
      "cell_type": "code",
      "execution_count": null,
      "metadata": {
        "colab": {
          "base_uri": "https://localhost:8080/"
        },
        "outputId": "d46f80d2-008d-4368-efd8-ffa5edfff89d",
        "id": "KtVCthMkN8wZ"
      },
      "outputs": [
        {
          "output_type": "execute_result",
          "data": {
            "text/plain": [
              "0.8848674803132008"
            ]
          },
          "metadata": {},
          "execution_count": 293
        }
      ],
      "source": [
        "#r2 score calculation\n",
        "r2_score(y_test_sy72, lr_sy72_pred)"
      ]
    },
    {
      "cell_type": "code",
      "execution_count": null,
      "metadata": {
        "colab": {
          "base_uri": "https://localhost:8080/"
        },
        "outputId": "df4ec902-eafb-48e5-de21-e7a361693d56",
        "id": "SgbiMZZYN8wZ"
      },
      "outputs": [
        {
          "output_type": "execute_result",
          "data": {
            "text/plain": [
              "4.858979813100249"
            ]
          },
          "metadata": {},
          "execution_count": 294
        }
      ],
      "source": [
        "#mean absolute error calculation\n",
        "mean_absolute_error(y_test_sy72, lr_sy72_pred)"
      ]
    },
    {
      "cell_type": "markdown",
      "source": [
        "stator winding"
      ],
      "metadata": {
        "id": "Th0tbI0iN8wZ"
      }
    },
    {
      "cell_type": "code",
      "execution_count": null,
      "metadata": {
        "id": "QlOoBdHtN8wZ"
      },
      "outputs": [],
      "source": [
        "#make model\n",
        "lr_sw72 = LinearRegression()"
      ]
    },
    {
      "cell_type": "code",
      "execution_count": null,
      "metadata": {
        "colab": {
          "base_uri": "https://localhost:8080/"
        },
        "outputId": "3348e81f-c19d-4c01-da40-6c08e645cd20",
        "id": "ppdNAT-VN8wZ"
      },
      "outputs": [
        {
          "output_type": "execute_result",
          "data": {
            "text/plain": [
              "LinearRegression()"
            ]
          },
          "metadata": {},
          "execution_count": 296
        }
      ],
      "source": [
        "#fit data to model\n",
        "lr_sw72.fit(x_train_sw72, y_train_sw72)"
      ]
    },
    {
      "cell_type": "code",
      "execution_count": null,
      "metadata": {
        "id": "aDYvhknXN8wZ"
      },
      "outputs": [],
      "source": [
        "#run prediction\n",
        "lr_sw72_pred = lr_sw72.predict(x_test_sw72)"
      ]
    },
    {
      "cell_type": "code",
      "execution_count": null,
      "metadata": {
        "colab": {
          "base_uri": "https://localhost:8080/"
        },
        "outputId": "62ecad04-919b-478b-8e3a-3f326bbb07c6",
        "id": "cAimnNPGN8wZ"
      },
      "outputs": [
        {
          "output_type": "execute_result",
          "data": {
            "text/plain": [
              "154.5256833413706"
            ]
          },
          "metadata": {},
          "execution_count": 298
        }
      ],
      "source": [
        "#mean squared error calculation\n",
        "mean_squared_error(y_test_sw72, lr_sw72_pred)"
      ]
    },
    {
      "cell_type": "code",
      "execution_count": null,
      "metadata": {
        "colab": {
          "base_uri": "https://localhost:8080/"
        },
        "outputId": "1b18ee59-26b1-4a1d-e66e-3d8998eb9ee0",
        "id": "dUu9BM0GN8wZ"
      },
      "outputs": [
        {
          "output_type": "execute_result",
          "data": {
            "text/plain": [
              "0.685829263567709"
            ]
          },
          "metadata": {},
          "execution_count": 299
        }
      ],
      "source": [
        "#r2 score calculation\n",
        "r2_score(y_test_sw72, lr_sw72_pred)"
      ]
    },
    {
      "cell_type": "code",
      "execution_count": null,
      "metadata": {
        "colab": {
          "base_uri": "https://localhost:8080/"
        },
        "outputId": "b81983b9-3d0e-4ba0-9f27-67b04a94e671",
        "id": "ZqnoLQ7rN8wZ"
      },
      "outputs": [
        {
          "output_type": "execute_result",
          "data": {
            "text/plain": [
              "9.303239723879297"
            ]
          },
          "metadata": {},
          "execution_count": 300
        }
      ],
      "source": [
        "#mean absolute error calculation\n",
        "mean_absolute_error(y_test_sw72, lr_sw72_pred)"
      ]
    },
    {
      "cell_type": "markdown",
      "source": [
        "pm"
      ],
      "metadata": {
        "id": "QpoBS1CxN8wZ"
      }
    },
    {
      "cell_type": "code",
      "execution_count": null,
      "metadata": {
        "id": "Y1yNYIeTN8wZ"
      },
      "outputs": [],
      "source": [
        "#make model\n",
        "lr_pm72 = LinearRegression()"
      ]
    },
    {
      "cell_type": "code",
      "execution_count": null,
      "metadata": {
        "colab": {
          "base_uri": "https://localhost:8080/"
        },
        "outputId": "d4299496-c9a6-4b70-8186-5baf76fb4a2c",
        "id": "-AO_YTn6N8wa"
      },
      "outputs": [
        {
          "output_type": "execute_result",
          "data": {
            "text/plain": [
              "LinearRegression()"
            ]
          },
          "metadata": {},
          "execution_count": 302
        }
      ],
      "source": [
        "#fit data to model\n",
        "lr_pm72.fit(x_train_pm72, y_train_pm72)"
      ]
    },
    {
      "cell_type": "code",
      "execution_count": null,
      "metadata": {
        "id": "FLE2JehNN8wa"
      },
      "outputs": [],
      "source": [
        "#run prediction\n",
        "lr_pm72_pred = lr_pm72.predict(x_test_pm72)"
      ]
    },
    {
      "cell_type": "code",
      "execution_count": null,
      "metadata": {
        "colab": {
          "base_uri": "https://localhost:8080/"
        },
        "outputId": "9d433eca-d49d-4866-9243-200a2801fe96",
        "id": "aACvDnhTN8wa"
      },
      "outputs": [
        {
          "output_type": "execute_result",
          "data": {
            "text/plain": [
              "63.95127160444318"
            ]
          },
          "metadata": {},
          "execution_count": 304
        }
      ],
      "source": [
        "#mean squared error calculation\n",
        "mean_squared_error(y_test_pm72, lr_pm72_pred)"
      ]
    },
    {
      "cell_type": "code",
      "execution_count": null,
      "metadata": {
        "colab": {
          "base_uri": "https://localhost:8080/"
        },
        "outputId": "d27751ce-d0bf-4ed2-92e5-b848296ee6b4",
        "id": "Hi7tIi2XN8wa"
      },
      "outputs": [
        {
          "output_type": "execute_result",
          "data": {
            "text/plain": [
              "0.2353842666176652"
            ]
          },
          "metadata": {},
          "execution_count": 305
        }
      ],
      "source": [
        "#r2 score calculation\n",
        "r2_score(y_test_pm72, lr_pm72_pred)"
      ]
    },
    {
      "cell_type": "code",
      "execution_count": null,
      "metadata": {
        "colab": {
          "base_uri": "https://localhost:8080/"
        },
        "outputId": "f9c89c7c-a4df-49d1-8d1b-5d65cd24a9dc",
        "id": "Uxt5g8SqN8wa"
      },
      "outputs": [
        {
          "output_type": "execute_result",
          "data": {
            "text/plain": [
              "6.392346494936288"
            ]
          },
          "metadata": {},
          "execution_count": 306
        }
      ],
      "source": [
        "#mean absolute error calculation\n",
        "mean_absolute_error(y_test_pm72, lr_pm72_pred)"
      ]
    },
    {
      "cell_type": "markdown",
      "source": [
        "# DT"
      ],
      "metadata": {
        "id": "UdbGmuBCPQnO"
      }
    },
    {
      "cell_type": "markdown",
      "source": [
        "# PID = 65"
      ],
      "metadata": {
        "id": "dcnBOu5tPQnT"
      }
    },
    {
      "cell_type": "markdown",
      "source": [
        "stator tooth "
      ],
      "metadata": {
        "id": "HeMB-V0UPQnT"
      }
    },
    {
      "cell_type": "code",
      "execution_count": null,
      "metadata": {
        "id": "f8LfyYPdPQnT"
      },
      "outputs": [],
      "source": [
        "#make model\n",
        "dt_st65 = tree.DecisionTreeRegressor()"
      ]
    },
    {
      "cell_type": "code",
      "execution_count": null,
      "metadata": {
        "colab": {
          "base_uri": "https://localhost:8080/"
        },
        "outputId": "b8fd87a0-bb61-4820-ad91-d71a217bd851",
        "id": "R989q77TPQnT"
      },
      "outputs": [
        {
          "output_type": "execute_result",
          "data": {
            "text/plain": [
              "DecisionTreeRegressor()"
            ]
          },
          "metadata": {},
          "execution_count": 308
        }
      ],
      "source": [
        "#fit data to model\n",
        "dt_st65.fit(x_train_st65, y_train_st65)"
      ]
    },
    {
      "cell_type": "code",
      "execution_count": null,
      "metadata": {
        "id": "f99H_SZqPQnT"
      },
      "outputs": [],
      "source": [
        "#run prediction\n",
        "dt_st65_pred = dt_st65.predict(x_test_st65)"
      ]
    },
    {
      "cell_type": "code",
      "execution_count": null,
      "metadata": {
        "colab": {
          "base_uri": "https://localhost:8080/"
        },
        "outputId": "368439c0-bbd8-4bbd-dd1c-0e61edd99e51",
        "id": "WhndZL6pPQnT"
      },
      "outputs": [
        {
          "output_type": "execute_result",
          "data": {
            "text/plain": [
              "3.6748513112885046"
            ]
          },
          "metadata": {},
          "execution_count": 310
        }
      ],
      "source": [
        "#mean squared error calculation\n",
        "mean_squared_error(y_test_st65, dt_st65_pred)"
      ]
    },
    {
      "cell_type": "code",
      "execution_count": null,
      "metadata": {
        "colab": {
          "base_uri": "https://localhost:8080/"
        },
        "outputId": "e35d3ee0-d5ad-4c31-be72-b9ed2fe853b8",
        "id": "Ro-hqELRPQnU"
      },
      "outputs": [
        {
          "output_type": "execute_result",
          "data": {
            "text/plain": [
              "0.9908826524129906"
            ]
          },
          "metadata": {},
          "execution_count": 311
        }
      ],
      "source": [
        "#r2 score calculation\n",
        "r2_score(y_test_st65, dt_st65_pred)"
      ]
    },
    {
      "cell_type": "code",
      "execution_count": null,
      "metadata": {
        "colab": {
          "base_uri": "https://localhost:8080/"
        },
        "outputId": "ca5ffcb5-4eb0-44c2-f7e2-0e9b6455ed55",
        "id": "9Lhy3H55PQnU"
      },
      "outputs": [
        {
          "output_type": "execute_result",
          "data": {
            "text/plain": [
              "0.5747948989499828"
            ]
          },
          "metadata": {},
          "execution_count": 312
        }
      ],
      "source": [
        "#mean absolute error calculation\n",
        "mean_absolute_error(y_test_st65, dt_st65_pred)"
      ]
    },
    {
      "cell_type": "markdown",
      "source": [
        "stator yoke"
      ],
      "metadata": {
        "id": "XK6o5QdQPQnU"
      }
    },
    {
      "cell_type": "code",
      "execution_count": null,
      "metadata": {
        "id": "rSjfgPx8PQnU"
      },
      "outputs": [],
      "source": [
        "#make model\n",
        "dt_sy65 = tree.DecisionTreeRegressor()"
      ]
    },
    {
      "cell_type": "code",
      "execution_count": null,
      "metadata": {
        "colab": {
          "base_uri": "https://localhost:8080/"
        },
        "outputId": "1c5ecee7-a5bb-4508-dd83-57969a5da34e",
        "id": "snmmo7l0PQnU"
      },
      "outputs": [
        {
          "output_type": "execute_result",
          "data": {
            "text/plain": [
              "DecisionTreeRegressor()"
            ]
          },
          "metadata": {},
          "execution_count": 314
        }
      ],
      "source": [
        "#fit data to model\n",
        "dt_sy65.fit(x_train_sy65, y_train_sy65)"
      ]
    },
    {
      "cell_type": "code",
      "execution_count": null,
      "metadata": {
        "id": "aE8xv9LnPQnU"
      },
      "outputs": [],
      "source": [
        "#run prediction\n",
        "dt_sy65_pred = dt_sy65.predict(x_test_sy65)"
      ]
    },
    {
      "cell_type": "code",
      "execution_count": null,
      "metadata": {
        "colab": {
          "base_uri": "https://localhost:8080/"
        },
        "outputId": "342315f0-9656-40c4-da68-1a7663311a18",
        "id": "KjW6AzMMPQnU"
      },
      "outputs": [
        {
          "output_type": "execute_result",
          "data": {
            "text/plain": [
              "1.4728880800061033"
            ]
          },
          "metadata": {},
          "execution_count": 316
        }
      ],
      "source": [
        "#mean squared error calculation\n",
        "mean_squared_error(y_test_sy65, dt_sy65_pred)"
      ]
    },
    {
      "cell_type": "code",
      "execution_count": null,
      "metadata": {
        "colab": {
          "base_uri": "https://localhost:8080/"
        },
        "outputId": "a874cc56-7a53-4aa8-997b-2d60526f1a26",
        "id": "rkh4QRacPQnU"
      },
      "outputs": [
        {
          "output_type": "execute_result",
          "data": {
            "text/plain": [
              "0.994741614440924"
            ]
          },
          "metadata": {},
          "execution_count": 317
        }
      ],
      "source": [
        "#r2 score calculation\n",
        "r2_score(y_test_sy65, dt_sy65_pred)"
      ]
    },
    {
      "cell_type": "code",
      "execution_count": null,
      "metadata": {
        "colab": {
          "base_uri": "https://localhost:8080/"
        },
        "outputId": "ecb1e9c9-2bf0-400f-e982-3a8de50a568f",
        "id": "EBf7CphxPQnU"
      },
      "outputs": [
        {
          "output_type": "execute_result",
          "data": {
            "text/plain": [
              "0.3651663613660332"
            ]
          },
          "metadata": {},
          "execution_count": 318
        }
      ],
      "source": [
        "#mean absolute error calculation\n",
        "mean_absolute_error(y_test_sy65, dt_sy65_pred)"
      ]
    },
    {
      "cell_type": "markdown",
      "source": [
        "stator winding"
      ],
      "metadata": {
        "id": "hXvNKqu6PQnU"
      }
    },
    {
      "cell_type": "code",
      "execution_count": null,
      "metadata": {
        "id": "rfYhraWMPQnU"
      },
      "outputs": [],
      "source": [
        "#make model\n",
        "dt_sw65 = tree.DecisionTreeRegressor()"
      ]
    },
    {
      "cell_type": "code",
      "execution_count": null,
      "metadata": {
        "colab": {
          "base_uri": "https://localhost:8080/"
        },
        "outputId": "4261648c-2842-42ca-cd61-f11635bd1891",
        "id": "m9st80DrPQnV"
      },
      "outputs": [
        {
          "output_type": "execute_result",
          "data": {
            "text/plain": [
              "DecisionTreeRegressor()"
            ]
          },
          "metadata": {},
          "execution_count": 320
        }
      ],
      "source": [
        "#fit data to model\n",
        "dt_sw65.fit(x_train_sw65, y_train_sw65)"
      ]
    },
    {
      "cell_type": "code",
      "execution_count": null,
      "metadata": {
        "id": "gdssUGdZPQnV"
      },
      "outputs": [],
      "source": [
        "#run prediction\n",
        "dt_sw65_pred = dt_sw65.predict(x_test_sw65)"
      ]
    },
    {
      "cell_type": "code",
      "execution_count": null,
      "metadata": {
        "colab": {
          "base_uri": "https://localhost:8080/"
        },
        "outputId": "fb2ec178-92fd-4b72-ae73-08dc5b0257cf",
        "id": "-_KGSIm1PQnV"
      },
      "outputs": [
        {
          "output_type": "execute_result",
          "data": {
            "text/plain": [
              "6.020098397532065"
            ]
          },
          "metadata": {},
          "execution_count": 322
        }
      ],
      "source": [
        "#mean squared error calculation\n",
        "mean_squared_error(y_test_sw65, dt_sw65_pred)"
      ]
    },
    {
      "cell_type": "code",
      "execution_count": null,
      "metadata": {
        "colab": {
          "base_uri": "https://localhost:8080/"
        },
        "outputId": "c43474a6-5bf2-4d46-d3ae-8e5bf293317a",
        "id": "DfyqoGV-PQnV"
      },
      "outputs": [
        {
          "output_type": "execute_result",
          "data": {
            "text/plain": [
              "0.9902458033100288"
            ]
          },
          "metadata": {},
          "execution_count": 323
        }
      ],
      "source": [
        "#r2 score calculation\n",
        "r2_score(y_test_sw65, dt_sw65_pred)"
      ]
    },
    {
      "cell_type": "code",
      "execution_count": null,
      "metadata": {
        "colab": {
          "base_uri": "https://localhost:8080/"
        },
        "outputId": "1f983fb2-e423-40c7-aa06-ab5d61678520",
        "id": "3PO46OpdPQnV"
      },
      "outputs": [
        {
          "output_type": "execute_result",
          "data": {
            "text/plain": [
              "0.8223722042125485"
            ]
          },
          "metadata": {},
          "execution_count": 324
        }
      ],
      "source": [
        "#mean absolute error calculation\n",
        "mean_absolute_error(y_test_sw65, dt_sw65_pred)"
      ]
    },
    {
      "cell_type": "markdown",
      "source": [
        "pm"
      ],
      "metadata": {
        "id": "bc-K5QCDPQnV"
      }
    },
    {
      "cell_type": "code",
      "execution_count": null,
      "metadata": {
        "id": "fWRv9ZL6PQnV"
      },
      "outputs": [],
      "source": [
        "#make model\n",
        "dt_pm65 = tree.DecisionTreeRegressor()"
      ]
    },
    {
      "cell_type": "code",
      "execution_count": null,
      "metadata": {
        "colab": {
          "base_uri": "https://localhost:8080/"
        },
        "outputId": "c7b95a12-b108-4458-dab1-6fc8076a93d4",
        "id": "gc3v5EsfPQnV"
      },
      "outputs": [
        {
          "output_type": "execute_result",
          "data": {
            "text/plain": [
              "DecisionTreeRegressor()"
            ]
          },
          "metadata": {},
          "execution_count": 326
        }
      ],
      "source": [
        "#fit data to model\n",
        "dt_pm65.fit(x_train_pm65, y_train_pm65)"
      ]
    },
    {
      "cell_type": "code",
      "execution_count": null,
      "metadata": {
        "id": "-BWzFO3EPQnV"
      },
      "outputs": [],
      "source": [
        "#run prediction\n",
        "dt_pm65_pred = dt_pm65.predict(x_test_pm65)"
      ]
    },
    {
      "cell_type": "code",
      "execution_count": null,
      "metadata": {
        "colab": {
          "base_uri": "https://localhost:8080/"
        },
        "outputId": "2474ae07-85ef-4b81-b345-5bacb5686dd3",
        "id": "ZeAvI2OsPQnV"
      },
      "outputs": [
        {
          "output_type": "execute_result",
          "data": {
            "text/plain": [
              "4.948463927165054"
            ]
          },
          "metadata": {},
          "execution_count": 328
        }
      ],
      "source": [
        "#mean squared error calculation\n",
        "mean_squared_error(y_test_pm65, dt_pm65_pred)"
      ]
    },
    {
      "cell_type": "code",
      "execution_count": null,
      "metadata": {
        "colab": {
          "base_uri": "https://localhost:8080/"
        },
        "outputId": "95406d12-a05a-430c-b21f-cd67719ffbb3",
        "id": "zDf4DsV7PQnV"
      },
      "outputs": [
        {
          "output_type": "execute_result",
          "data": {
            "text/plain": [
              "0.9758297598008564"
            ]
          },
          "metadata": {},
          "execution_count": 329
        }
      ],
      "source": [
        "#r2 score calculation\n",
        "r2_score(y_test_pm65, dt_pm65_pred)"
      ]
    },
    {
      "cell_type": "code",
      "execution_count": null,
      "metadata": {
        "colab": {
          "base_uri": "https://localhost:8080/"
        },
        "outputId": "18bdedd6-5825-499d-dbd7-742c03594b7f",
        "id": "bbXu-ur3PQnV"
      },
      "outputs": [
        {
          "output_type": "execute_result",
          "data": {
            "text/plain": [
              "1.043293084588343"
            ]
          },
          "metadata": {},
          "execution_count": 330
        }
      ],
      "source": [
        "#mean absolute error calculation\n",
        "mean_absolute_error(y_test_pm65, dt_pm65_pred)"
      ]
    },
    {
      "cell_type": "markdown",
      "source": [
        "# PID = 72"
      ],
      "metadata": {
        "id": "TVTk280nPQnW"
      }
    },
    {
      "cell_type": "markdown",
      "source": [
        "stator tooth "
      ],
      "metadata": {
        "id": "ZArLb1ofPQnW"
      }
    },
    {
      "cell_type": "code",
      "execution_count": null,
      "metadata": {
        "id": "2QfMYNWJPQnW"
      },
      "outputs": [],
      "source": [
        "#make model\n",
        "dt_st72 = tree.DecisionTreeRegressor()"
      ]
    },
    {
      "cell_type": "code",
      "execution_count": null,
      "metadata": {
        "colab": {
          "base_uri": "https://localhost:8080/"
        },
        "outputId": "9c87b53e-d080-47c9-8f98-78b146938e08",
        "id": "fkh7Th7lPQnW"
      },
      "outputs": [
        {
          "output_type": "execute_result",
          "data": {
            "text/plain": [
              "DecisionTreeRegressor()"
            ]
          },
          "metadata": {},
          "execution_count": 332
        }
      ],
      "source": [
        "#fit data to model\n",
        "dt_st72.fit(x_train_st72, y_train_st72)"
      ]
    },
    {
      "cell_type": "code",
      "execution_count": null,
      "metadata": {
        "id": "xpSn6V4qPQnW"
      },
      "outputs": [],
      "source": [
        "#run prediction\n",
        "dt_st72_pred = dt_st72.predict(x_test_st72)"
      ]
    },
    {
      "cell_type": "code",
      "execution_count": null,
      "metadata": {
        "colab": {
          "base_uri": "https://localhost:8080/"
        },
        "outputId": "79acd603-3d5c-479c-a4b1-917fcbffe683",
        "id": "tv8fXVk-PQnW"
      },
      "outputs": [
        {
          "output_type": "execute_result",
          "data": {
            "text/plain": [
              "7.290584970613931"
            ]
          },
          "metadata": {},
          "execution_count": 334
        }
      ],
      "source": [
        "#mean squared error calculation\n",
        "mean_squared_error(y_test_st72, dt_st72_pred)"
      ]
    },
    {
      "cell_type": "code",
      "execution_count": null,
      "metadata": {
        "colab": {
          "base_uri": "https://localhost:8080/"
        },
        "outputId": "2f481975-a22c-4eda-a42d-40dfdf2ca243",
        "id": "2KQRe1vYPQnW"
      },
      "outputs": [
        {
          "output_type": "execute_result",
          "data": {
            "text/plain": [
              "0.9826662641226375"
            ]
          },
          "metadata": {},
          "execution_count": 335
        }
      ],
      "source": [
        "#r2 score calculation\n",
        "r2_score(y_test_st72, dt_st72_pred)"
      ]
    },
    {
      "cell_type": "code",
      "execution_count": null,
      "metadata": {
        "colab": {
          "base_uri": "https://localhost:8080/"
        },
        "outputId": "702bbe87-fd5e-4b47-b5a2-710a42603684",
        "id": "NWmylpyqPQnW"
      },
      "outputs": [
        {
          "output_type": "execute_result",
          "data": {
            "text/plain": [
              "0.6222138632332167"
            ]
          },
          "metadata": {},
          "execution_count": 336
        }
      ],
      "source": [
        "#mean absolute error calculation\n",
        "mean_absolute_error(y_test_st72, dt_st72_pred)"
      ]
    },
    {
      "cell_type": "markdown",
      "source": [
        "stator yoke"
      ],
      "metadata": {
        "id": "99xbYbsaPQnW"
      }
    },
    {
      "cell_type": "code",
      "execution_count": null,
      "metadata": {
        "id": "ajurm3c8PQnW"
      },
      "outputs": [],
      "source": [
        "#make model\n",
        "dt_sy72 = tree.DecisionTreeRegressor()"
      ]
    },
    {
      "cell_type": "code",
      "execution_count": null,
      "metadata": {
        "colab": {
          "base_uri": "https://localhost:8080/"
        },
        "outputId": "9b291270-b4b1-4019-d918-bad9b2454d45",
        "id": "PYzeT6ECPQnW"
      },
      "outputs": [
        {
          "output_type": "execute_result",
          "data": {
            "text/plain": [
              "DecisionTreeRegressor()"
            ]
          },
          "metadata": {},
          "execution_count": 338
        }
      ],
      "source": [
        "#fit data to model\n",
        "dt_sy72.fit(x_train_sy72, y_train_sy72)"
      ]
    },
    {
      "cell_type": "code",
      "execution_count": null,
      "metadata": {
        "id": "lIvnNYr2PQnW"
      },
      "outputs": [],
      "source": [
        "#run prediction\n",
        "dt_sy72_pred = dt_sy72.predict(x_test_sy72)"
      ]
    },
    {
      "cell_type": "code",
      "execution_count": null,
      "metadata": {
        "colab": {
          "base_uri": "https://localhost:8080/"
        },
        "outputId": "92aded50-be25-463b-8a3b-7dd948af48a1",
        "id": "NRsCW-yXPQnW"
      },
      "outputs": [
        {
          "output_type": "execute_result",
          "data": {
            "text/plain": [
              "3.3601280396725937"
            ]
          },
          "metadata": {},
          "execution_count": 340
        }
      ],
      "source": [
        "#mean squared error calculation\n",
        "mean_squared_error(y_test_sy72, dt_sy72_pred)"
      ]
    },
    {
      "cell_type": "code",
      "execution_count": null,
      "metadata": {
        "colab": {
          "base_uri": "https://localhost:8080/"
        },
        "outputId": "83d64891-3cf5-4f67-ea39-f5e99be96a18",
        "id": "sO7wdmCuPQnX"
      },
      "outputs": [
        {
          "output_type": "execute_result",
          "data": {
            "text/plain": [
              "0.9920672972911967"
            ]
          },
          "metadata": {},
          "execution_count": 341
        }
      ],
      "source": [
        "#r2 score calculation\n",
        "r2_score(y_test_sy72, dt_sy72_pred)"
      ]
    },
    {
      "cell_type": "code",
      "execution_count": null,
      "metadata": {
        "colab": {
          "base_uri": "https://localhost:8080/"
        },
        "outputId": "a84d5b19-8316-47f3-f869-0ca4cb0708bd",
        "id": "3Spjfn0ePQnX"
      },
      "outputs": [
        {
          "output_type": "execute_result",
          "data": {
            "text/plain": [
              "0.40889322030023056"
            ]
          },
          "metadata": {},
          "execution_count": 342
        }
      ],
      "source": [
        "#mean absolute error calculation\n",
        "mean_absolute_error(y_test_sy72, dt_sy72_pred)"
      ]
    },
    {
      "cell_type": "markdown",
      "source": [
        "stator winding"
      ],
      "metadata": {
        "id": "yOZT14PHPQnX"
      }
    },
    {
      "cell_type": "code",
      "execution_count": null,
      "metadata": {
        "id": "OuJ18uriPQnX"
      },
      "outputs": [],
      "source": [
        "#make model\n",
        "dt_sw72 = tree.DecisionTreeRegressor()"
      ]
    },
    {
      "cell_type": "code",
      "execution_count": null,
      "metadata": {
        "colab": {
          "base_uri": "https://localhost:8080/"
        },
        "outputId": "495aaf11-fc9e-42da-da0f-aea76aa87f56",
        "id": "41o3BuaEPQnX"
      },
      "outputs": [
        {
          "output_type": "execute_result",
          "data": {
            "text/plain": [
              "DecisionTreeRegressor()"
            ]
          },
          "metadata": {},
          "execution_count": 344
        }
      ],
      "source": [
        "#fit data to model\n",
        "dt_sw72.fit(x_train_sw72, y_train_sw72)"
      ]
    },
    {
      "cell_type": "code",
      "execution_count": null,
      "metadata": {
        "id": "kKp30VtkPQnX"
      },
      "outputs": [],
      "source": [
        "#run prediction\n",
        "dt_sw72_pred = dt_sw72.predict(x_test_sw72)"
      ]
    },
    {
      "cell_type": "code",
      "execution_count": null,
      "metadata": {
        "colab": {
          "base_uri": "https://localhost:8080/"
        },
        "outputId": "99d8e2e4-1cca-49b6-bb58-22e8a3fc413d",
        "id": "npKneTivPQnX"
      },
      "outputs": [
        {
          "output_type": "execute_result",
          "data": {
            "text/plain": [
              "13.635364306079703"
            ]
          },
          "metadata": {},
          "execution_count": 346
        }
      ],
      "source": [
        "#mean squared error calculation\n",
        "mean_squared_error(y_test_sw72, dt_sw72_pred)"
      ]
    },
    {
      "cell_type": "code",
      "execution_count": null,
      "metadata": {
        "colab": {
          "base_uri": "https://localhost:8080/"
        },
        "outputId": "149f6ca2-bc0a-411b-dcf5-482b08c99c43",
        "id": "bprYRClCPQnX"
      },
      "outputs": [
        {
          "output_type": "execute_result",
          "data": {
            "text/plain": [
              "0.9722775376045417"
            ]
          },
          "metadata": {},
          "execution_count": 347
        }
      ],
      "source": [
        "#r2 score calculation\n",
        "r2_score(y_test_sw72, dt_sw72_pred)"
      ]
    },
    {
      "cell_type": "code",
      "execution_count": null,
      "metadata": {
        "colab": {
          "base_uri": "https://localhost:8080/"
        },
        "outputId": "1cbeec14-13ff-45a1-8f65-580d47db26ea",
        "id": "MdmtgoAzPQnX"
      },
      "outputs": [
        {
          "output_type": "execute_result",
          "data": {
            "text/plain": [
              "1.0333388095194134"
            ]
          },
          "metadata": {},
          "execution_count": 348
        }
      ],
      "source": [
        "#mean absolute error calculation\n",
        "mean_absolute_error(y_test_sw72, dt_sw72_pred)"
      ]
    },
    {
      "cell_type": "markdown",
      "source": [
        "pm"
      ],
      "metadata": {
        "id": "uXTQaG5hPQnZ"
      }
    },
    {
      "cell_type": "code",
      "execution_count": null,
      "metadata": {
        "id": "DaCL7fu7PQnZ"
      },
      "outputs": [],
      "source": [
        "#make model\n",
        "dt_pm72 = tree.DecisionTreeRegressor()"
      ]
    },
    {
      "cell_type": "code",
      "execution_count": null,
      "metadata": {
        "colab": {
          "base_uri": "https://localhost:8080/"
        },
        "outputId": "ead2a231-b698-4cf2-9b9c-83ae7b0761a0",
        "id": "RVBTLdFaPQnZ"
      },
      "outputs": [
        {
          "output_type": "execute_result",
          "data": {
            "text/plain": [
              "DecisionTreeRegressor()"
            ]
          },
          "metadata": {},
          "execution_count": 350
        }
      ],
      "source": [
        "#fit data to model\n",
        "dt_pm72.fit(x_train_pm72, y_train_pm72)"
      ]
    },
    {
      "cell_type": "code",
      "execution_count": null,
      "metadata": {
        "id": "Y-eI6DqpPQnZ"
      },
      "outputs": [],
      "source": [
        "#run prediction\n",
        "dt_pm72_pred = dt_pm72.predict(x_test_pm72)"
      ]
    },
    {
      "cell_type": "code",
      "execution_count": null,
      "metadata": {
        "colab": {
          "base_uri": "https://localhost:8080/"
        },
        "outputId": "a4967acc-d9c9-4e54-f56f-30d213fdf5c1",
        "id": "SclFr6k0PQnZ"
      },
      "outputs": [
        {
          "output_type": "execute_result",
          "data": {
            "text/plain": [
              "1.7736380531285978"
            ]
          },
          "metadata": {},
          "execution_count": 352
        }
      ],
      "source": [
        "#mean squared error calculation\n",
        "mean_squared_error(y_test_pm72, dt_pm72_pred)"
      ]
    },
    {
      "cell_type": "code",
      "execution_count": null,
      "metadata": {
        "colab": {
          "base_uri": "https://localhost:8080/"
        },
        "outputId": "3a587534-1805-4e63-cc27-61c2d25b64e5",
        "id": "cxbjBuSKPQnZ"
      },
      "outputs": [
        {
          "output_type": "execute_result",
          "data": {
            "text/plain": [
              "0.9787939860033446"
            ]
          },
          "metadata": {},
          "execution_count": 353
        }
      ],
      "source": [
        "#r2 score calculation\n",
        "r2_score(y_test_pm72, dt_pm72_pred)"
      ]
    },
    {
      "cell_type": "code",
      "execution_count": null,
      "metadata": {
        "colab": {
          "base_uri": "https://localhost:8080/"
        },
        "outputId": "77a596c1-38f9-4fc4-9544-3d9e5419b0f0",
        "id": "S1Z4C6S9PQna"
      },
      "outputs": [
        {
          "output_type": "execute_result",
          "data": {
            "text/plain": [
              "0.2974590780558178"
            ]
          },
          "metadata": {},
          "execution_count": 354
        }
      ],
      "source": [
        "#mean absolute error calculation\n",
        "mean_absolute_error(y_test_pm72, dt_pm72_pred)"
      ]
    }
  ],
  "metadata": {
    "colab": {
      "name": "ESOF 3675 Project - Model Finalization.ipynb",
      "provenance": [],
      "collapsed_sections": [
        "gEGM6wm_5xVg",
        "JGDO7cfugZ4h",
        "EkgpyycigfMr"
      ],
      "toc_visible": true,
      "include_colab_link": true
    },
    "kernelspec": {
      "display_name": "Python 3",
      "name": "python3"
    },
    "language_info": {
      "name": "python"
    }
  },
  "nbformat": 4,
  "nbformat_minor": 0
}